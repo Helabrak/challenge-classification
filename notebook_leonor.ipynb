{
 "cells": [
  {
   "cell_type": "code",
   "execution_count": 1,
   "id": "ce3ae6e8",
   "metadata": {},
   "outputs": [],
   "source": [
    "import pandas as pd\n",
    "import numpy as np\n",
    "import matplotlib.pyplot as plt\n",
    "import seaborn as sns"
   ]
  },
  {
   "cell_type": "code",
   "execution_count": 2,
   "id": "ef46a251",
   "metadata": {},
   "outputs": [],
   "source": [
    "bearings_classes = pd.read_csv('bearing_classes.csv', sep=';')"
   ]
  },
  {
   "cell_type": "code",
   "execution_count": 3,
   "id": "52b9db3f",
   "metadata": {
    "scrolled": true
   },
   "outputs": [
    {
     "data": {
      "text/html": [
       "<div>\n",
       "<style scoped>\n",
       "    .dataframe tbody tr th:only-of-type {\n",
       "        vertical-align: middle;\n",
       "    }\n",
       "\n",
       "    .dataframe tbody tr th {\n",
       "        vertical-align: top;\n",
       "    }\n",
       "\n",
       "    .dataframe thead th {\n",
       "        text-align: right;\n",
       "    }\n",
       "</style>\n",
       "<table border=\"1\" class=\"dataframe\">\n",
       "  <thead>\n",
       "    <tr style=\"text-align: right;\">\n",
       "      <th></th>\n",
       "      <th>bearing_id</th>\n",
       "      <th>status</th>\n",
       "    </tr>\n",
       "  </thead>\n",
       "  <tbody>\n",
       "    <tr>\n",
       "      <th>0</th>\n",
       "      <td>0</td>\n",
       "      <td>1</td>\n",
       "    </tr>\n",
       "    <tr>\n",
       "      <th>1</th>\n",
       "      <td>1</td>\n",
       "      <td>0</td>\n",
       "    </tr>\n",
       "    <tr>\n",
       "      <th>2</th>\n",
       "      <td>2</td>\n",
       "      <td>0</td>\n",
       "    </tr>\n",
       "    <tr>\n",
       "      <th>3</th>\n",
       "      <td>3</td>\n",
       "      <td>0</td>\n",
       "    </tr>\n",
       "    <tr>\n",
       "      <th>4</th>\n",
       "      <td>4</td>\n",
       "      <td>0</td>\n",
       "    </tr>\n",
       "  </tbody>\n",
       "</table>\n",
       "</div>"
      ],
      "text/plain": [
       "   bearing_id  status\n",
       "0           0       1\n",
       "1           1       0\n",
       "2           2       0\n",
       "3           3       0\n",
       "4           4       0"
      ]
     },
     "execution_count": 3,
     "metadata": {},
     "output_type": "execute_result"
    }
   ],
   "source": [
    "bearings_classes.head()"
   ]
  },
  {
   "cell_type": "code",
   "execution_count": 4,
   "id": "b3f10ff0",
   "metadata": {},
   "outputs": [
    {
     "data": {
      "text/plain": [
       "array([1, 0], dtype=int64)"
      ]
     },
     "execution_count": 4,
     "metadata": {},
     "output_type": "execute_result"
    }
   ],
   "source": [
    "bearings_classes.status.unique()"
   ]
  },
  {
   "cell_type": "code",
   "execution_count": 5,
   "id": "a07fb723",
   "metadata": {},
   "outputs": [],
   "source": [
    "bearings_signals = pd.read_csv('bearing_signals.csv')"
   ]
  },
  {
   "cell_type": "code",
   "execution_count": 6,
   "id": "9dfce335",
   "metadata": {},
   "outputs": [
    {
     "data": {
      "text/html": [
       "<div>\n",
       "<style scoped>\n",
       "    .dataframe tbody tr th:only-of-type {\n",
       "        vertical-align: middle;\n",
       "    }\n",
       "\n",
       "    .dataframe tbody tr th {\n",
       "        vertical-align: top;\n",
       "    }\n",
       "\n",
       "    .dataframe thead th {\n",
       "        text-align: right;\n",
       "    }\n",
       "</style>\n",
       "<table border=\"1\" class=\"dataframe\">\n",
       "  <thead>\n",
       "    <tr style=\"text-align: right;\">\n",
       "      <th></th>\n",
       "      <th>experiment_id</th>\n",
       "      <th>bearing_1_id</th>\n",
       "      <th>bearing_2_id</th>\n",
       "      <th>timestamp</th>\n",
       "      <th>a1_x</th>\n",
       "      <th>a1_y</th>\n",
       "      <th>a1_z</th>\n",
       "      <th>a2_x</th>\n",
       "      <th>a2_y</th>\n",
       "      <th>a2_z</th>\n",
       "      <th>rpm</th>\n",
       "      <th>hz</th>\n",
       "      <th>w</th>\n",
       "    </tr>\n",
       "  </thead>\n",
       "  <tbody>\n",
       "    <tr>\n",
       "      <th>0</th>\n",
       "      <td>1</td>\n",
       "      <td>0</td>\n",
       "      <td>1</td>\n",
       "      <td>0.000000</td>\n",
       "      <td>0.113269</td>\n",
       "      <td>0.149706</td>\n",
       "      <td>-0.110275</td>\n",
       "      <td>-0.186030</td>\n",
       "      <td>0.194450</td>\n",
       "      <td>0.454299</td>\n",
       "      <td>0.0</td>\n",
       "      <td>0.0</td>\n",
       "      <td>0.000006</td>\n",
       "    </tr>\n",
       "    <tr>\n",
       "      <th>1</th>\n",
       "      <td>1</td>\n",
       "      <td>0</td>\n",
       "      <td>1</td>\n",
       "      <td>0.000333</td>\n",
       "      <td>-0.367713</td>\n",
       "      <td>-0.228832</td>\n",
       "      <td>0.177821</td>\n",
       "      <td>0.285992</td>\n",
       "      <td>0.002226</td>\n",
       "      <td>-0.043930</td>\n",
       "      <td>0.0</td>\n",
       "      <td>0.0</td>\n",
       "      <td>0.000243</td>\n",
       "    </tr>\n",
       "    <tr>\n",
       "      <th>2</th>\n",
       "      <td>1</td>\n",
       "      <td>0</td>\n",
       "      <td>1</td>\n",
       "      <td>0.000667</td>\n",
       "      <td>0.113269</td>\n",
       "      <td>0.149706</td>\n",
       "      <td>-0.398371</td>\n",
       "      <td>-0.091625</td>\n",
       "      <td>0.002226</td>\n",
       "      <td>0.454299</td>\n",
       "      <td>0.0</td>\n",
       "      <td>0.0</td>\n",
       "      <td>0.000369</td>\n",
       "    </tr>\n",
       "    <tr>\n",
       "      <th>3</th>\n",
       "      <td>1</td>\n",
       "      <td>0</td>\n",
       "      <td>1</td>\n",
       "      <td>0.001000</td>\n",
       "      <td>-0.175320</td>\n",
       "      <td>-0.228832</td>\n",
       "      <td>-0.110275</td>\n",
       "      <td>0.285992</td>\n",
       "      <td>0.002226</td>\n",
       "      <td>0.255007</td>\n",
       "      <td>0.0</td>\n",
       "      <td>0.0</td>\n",
       "      <td>0.000520</td>\n",
       "    </tr>\n",
       "    <tr>\n",
       "      <th>4</th>\n",
       "      <td>1</td>\n",
       "      <td>0</td>\n",
       "      <td>1</td>\n",
       "      <td>0.001333</td>\n",
       "      <td>-0.079124</td>\n",
       "      <td>0.055072</td>\n",
       "      <td>-0.110275</td>\n",
       "      <td>0.191588</td>\n",
       "      <td>0.002226</td>\n",
       "      <td>0.255007</td>\n",
       "      <td>0.0</td>\n",
       "      <td>0.0</td>\n",
       "      <td>0.000175</td>\n",
       "    </tr>\n",
       "  </tbody>\n",
       "</table>\n",
       "</div>"
      ],
      "text/plain": [
       "   experiment_id  bearing_1_id  bearing_2_id  timestamp      a1_x      a1_y  \\\n",
       "0              1             0             1   0.000000  0.113269  0.149706   \n",
       "1              1             0             1   0.000333 -0.367713 -0.228832   \n",
       "2              1             0             1   0.000667  0.113269  0.149706   \n",
       "3              1             0             1   0.001000 -0.175320 -0.228832   \n",
       "4              1             0             1   0.001333 -0.079124  0.055072   \n",
       "\n",
       "       a1_z      a2_x      a2_y      a2_z  rpm   hz         w  \n",
       "0 -0.110275 -0.186030  0.194450  0.454299  0.0  0.0  0.000006  \n",
       "1  0.177821  0.285992  0.002226 -0.043930  0.0  0.0  0.000243  \n",
       "2 -0.398371 -0.091625  0.002226  0.454299  0.0  0.0  0.000369  \n",
       "3 -0.110275  0.285992  0.002226  0.255007  0.0  0.0  0.000520  \n",
       "4 -0.110275  0.191588  0.002226  0.255007  0.0  0.0  0.000175  "
      ]
     },
     "execution_count": 6,
     "metadata": {},
     "output_type": "execute_result"
    }
   ],
   "source": [
    "bearings_signals.head()"
   ]
  },
  {
   "cell_type": "code",
   "execution_count": 7,
   "id": "392e838c",
   "metadata": {},
   "outputs": [
    {
     "data": {
      "text/plain": [
       "(10265700, 13)"
      ]
     },
     "execution_count": 7,
     "metadata": {},
     "output_type": "execute_result"
    }
   ],
   "source": [
    "bearings_signals.shape"
   ]
  },
  {
   "cell_type": "code",
   "execution_count": 8,
   "id": "22436366",
   "metadata": {},
   "outputs": [
    {
     "data": {
      "text/plain": [
       "<bound method DataFrame.info of           experiment_id  bearing_1_id  bearing_2_id  timestamp      a1_x  \\\n",
       "0                     1             0             1   0.000000  0.113269   \n",
       "1                     1             0             1   0.000333 -0.367713   \n",
       "2                     1             0             1   0.000667  0.113269   \n",
       "3                     1             0             1   0.001000 -0.175320   \n",
       "4                     1             0             1   0.001333 -0.079124   \n",
       "...                 ...           ...           ...        ...       ...   \n",
       "10265695            112             0           112  32.098333 -0.367713   \n",
       "10265696            112             0           112  32.098667 -0.463909   \n",
       "10265697            112             0           112  32.099000  0.017072   \n",
       "10265698            112             0           112  32.099333  0.209465   \n",
       "10265699            112             0           112  32.099667  0.498054   \n",
       "\n",
       "              a1_y      a1_z      a2_x      a2_y      a2_z         rpm  \\\n",
       "0         0.149706 -0.110275 -0.186030  0.194450  0.454299    0.000000   \n",
       "1        -0.228832  0.177821  0.285992  0.002226 -0.043930    0.000000   \n",
       "2         0.149706 -0.398371 -0.091625  0.002226  0.454299    0.000000   \n",
       "3        -0.228832 -0.110275  0.285992  0.002226  0.255007    0.000000   \n",
       "4         0.055072 -0.110275  0.191588  0.002226  0.255007    0.000000   \n",
       "...            ...       ...       ...       ...       ...         ...   \n",
       "10265695  0.149706  0.465916 -0.469243  0.194450  0.553945  178.748759   \n",
       "10265696  0.338975  0.561948 -0.469243  0.194450  0.354653  178.748759   \n",
       "10265697  0.433610  0.369884 -0.563647 -0.093886  0.155361  178.748759   \n",
       "10265698  0.244341  0.273852 -0.374838  0.194450  0.155361  178.748759   \n",
       "10265699  0.244341  0.177821 -0.186030  0.290562 -0.243222  178.748759   \n",
       "\n",
       "                hz         w  \n",
       "0         0.000000  0.000006  \n",
       "1         0.000000  0.000243  \n",
       "2         0.000000  0.000369  \n",
       "3         0.000000  0.000520  \n",
       "4         0.000000  0.000175  \n",
       "...            ...       ...  \n",
       "10265695  2.979146  0.019412  \n",
       "10265696  2.979146  0.032027  \n",
       "10265697  2.979146  0.012211  \n",
       "10265698  2.979146  0.000764  \n",
       "10265699  2.979146  0.002794  \n",
       "\n",
       "[10265700 rows x 13 columns]>"
      ]
     },
     "execution_count": 8,
     "metadata": {},
     "output_type": "execute_result"
    }
   ],
   "source": [
    "bearings_signals.info"
   ]
  },
  {
   "cell_type": "code",
   "execution_count": 9,
   "id": "36f34cf7",
   "metadata": {},
   "outputs": [
    {
     "data": {
      "text/plain": [
       "<bound method NDFrame.describe of           experiment_id  bearing_1_id  bearing_2_id  timestamp      a1_x  \\\n",
       "0                     1             0             1   0.000000  0.113269   \n",
       "1                     1             0             1   0.000333 -0.367713   \n",
       "2                     1             0             1   0.000667  0.113269   \n",
       "3                     1             0             1   0.001000 -0.175320   \n",
       "4                     1             0             1   0.001333 -0.079124   \n",
       "...                 ...           ...           ...        ...       ...   \n",
       "10265695            112             0           112  32.098333 -0.367713   \n",
       "10265696            112             0           112  32.098667 -0.463909   \n",
       "10265697            112             0           112  32.099000  0.017072   \n",
       "10265698            112             0           112  32.099333  0.209465   \n",
       "10265699            112             0           112  32.099667  0.498054   \n",
       "\n",
       "              a1_y      a1_z      a2_x      a2_y      a2_z         rpm  \\\n",
       "0         0.149706 -0.110275 -0.186030  0.194450  0.454299    0.000000   \n",
       "1        -0.228832  0.177821  0.285992  0.002226 -0.043930    0.000000   \n",
       "2         0.149706 -0.398371 -0.091625  0.002226  0.454299    0.000000   \n",
       "3        -0.228832 -0.110275  0.285992  0.002226  0.255007    0.000000   \n",
       "4         0.055072 -0.110275  0.191588  0.002226  0.255007    0.000000   \n",
       "...            ...       ...       ...       ...       ...         ...   \n",
       "10265695  0.149706  0.465916 -0.469243  0.194450  0.553945  178.748759   \n",
       "10265696  0.338975  0.561948 -0.469243  0.194450  0.354653  178.748759   \n",
       "10265697  0.433610  0.369884 -0.563647 -0.093886  0.155361  178.748759   \n",
       "10265698  0.244341  0.273852 -0.374838  0.194450  0.155361  178.748759   \n",
       "10265699  0.244341  0.177821 -0.186030  0.290562 -0.243222  178.748759   \n",
       "\n",
       "                hz         w  \n",
       "0         0.000000  0.000006  \n",
       "1         0.000000  0.000243  \n",
       "2         0.000000  0.000369  \n",
       "3         0.000000  0.000520  \n",
       "4         0.000000  0.000175  \n",
       "...            ...       ...  \n",
       "10265695  2.979146  0.019412  \n",
       "10265696  2.979146  0.032027  \n",
       "10265697  2.979146  0.012211  \n",
       "10265698  2.979146  0.000764  \n",
       "10265699  2.979146  0.002794  \n",
       "\n",
       "[10265700 rows x 13 columns]>"
      ]
     },
     "execution_count": 9,
     "metadata": {},
     "output_type": "execute_result"
    }
   ],
   "source": [
    "bearings_signals.describe"
   ]
  },
  {
   "cell_type": "code",
   "execution_count": 10,
   "id": "c3d62a9f",
   "metadata": {},
   "outputs": [
    {
     "data": {
      "text/plain": [
       "['experiment_id',\n",
       " 'bearing_1_id',\n",
       " 'bearing_2_id',\n",
       " 'timestamp',\n",
       " 'a1_x',\n",
       " 'a1_y',\n",
       " 'a1_z',\n",
       " 'a2_x',\n",
       " 'a2_y',\n",
       " 'a2_z',\n",
       " 'rpm',\n",
       " 'hz',\n",
       " 'w']"
      ]
     },
     "execution_count": 10,
     "metadata": {},
     "output_type": "execute_result"
    }
   ],
   "source": [
    "bearings_signals.columns.tolist()"
   ]
  },
  {
   "cell_type": "code",
   "execution_count": 11,
   "id": "deaf2aa8",
   "metadata": {
    "scrolled": true
   },
   "outputs": [
    {
     "data": {
      "text/plain": [
       "array([0], dtype=int64)"
      ]
     },
     "execution_count": 11,
     "metadata": {},
     "output_type": "execute_result"
    }
   ],
   "source": [
    "bearings_signals.bearing_1_id.unique()"
   ]
  },
  {
   "cell_type": "code",
   "execution_count": 12,
   "id": "19cd4ff4",
   "metadata": {
    "scrolled": true
   },
   "outputs": [
    {
     "data": {
      "text/plain": [
       "array([  1,   2,   3,   4,   5,   6,   7,   8,   9,  10,  11,  12,  13,\n",
       "        14,  15,  16,  17,  18,  19,  20,  21,  22,  23,  24,  25,  26,\n",
       "        27,  28,  29,  30,  31,  32,  33,  34,  35,  36,  37,  38,  39,\n",
       "        40,  41,  42,  43,  44,  45,  46,  47,  48,  49,  50,  51,  52,\n",
       "        53,  54,  55,  56,  57,  58,  59,  60,  61,  62,  63,  64,  65,\n",
       "        66,  67,  68,  69,  70,  71,  72,  73,  74,  75,  76,  77,  78,\n",
       "        79,  80,  81,  82,  83,  84,  85,  86,  87,  88,  89,  90,  91,\n",
       "        92,  93,  94,  95,  96,  97,  98,  99, 100, 101, 102, 103, 104,\n",
       "       105, 106, 107, 108, 109, 110, 111, 112], dtype=int64)"
      ]
     },
     "execution_count": 12,
     "metadata": {},
     "output_type": "execute_result"
    }
   ],
   "source": [
    "bearings_signals.bearing_2_id.unique()"
   ]
  },
  {
   "cell_type": "code",
   "execution_count": 13,
   "id": "72406700",
   "metadata": {},
   "outputs": [],
   "source": [
    "#bearings_signals.a1_x.unique()"
   ]
  },
  {
   "cell_type": "code",
   "execution_count": 14,
   "id": "b0da4994",
   "metadata": {},
   "outputs": [],
   "source": [
    "#bearings_signals.experiment_id.value_counts().tolist()"
   ]
  },
  {
   "cell_type": "code",
   "execution_count": 15,
   "id": "96703306",
   "metadata": {},
   "outputs": [
    {
     "data": {
      "text/html": [
       "<div>\n",
       "<style scoped>\n",
       "    .dataframe tbody tr th:only-of-type {\n",
       "        vertical-align: middle;\n",
       "    }\n",
       "\n",
       "    .dataframe tbody tr th {\n",
       "        vertical-align: top;\n",
       "    }\n",
       "\n",
       "    .dataframe thead th {\n",
       "        text-align: right;\n",
       "    }\n",
       "</style>\n",
       "<table border=\"1\" class=\"dataframe\">\n",
       "  <thead>\n",
       "    <tr style=\"text-align: right;\">\n",
       "      <th></th>\n",
       "      <th>experiment_id</th>\n",
       "      <th>bearing_2_id</th>\n",
       "      <th>timestamp</th>\n",
       "      <th>a1_x</th>\n",
       "      <th>a1_y</th>\n",
       "      <th>a1_z</th>\n",
       "      <th>a2_x</th>\n",
       "      <th>a2_y</th>\n",
       "      <th>a2_z</th>\n",
       "      <th>rpm</th>\n",
       "      <th>hz</th>\n",
       "      <th>w</th>\n",
       "    </tr>\n",
       "  </thead>\n",
       "  <tbody>\n",
       "    <tr>\n",
       "      <th>0</th>\n",
       "      <td>1</td>\n",
       "      <td>1</td>\n",
       "      <td>0.000000</td>\n",
       "      <td>0.113269</td>\n",
       "      <td>0.149706</td>\n",
       "      <td>-0.110275</td>\n",
       "      <td>-0.186030</td>\n",
       "      <td>0.194450</td>\n",
       "      <td>0.454299</td>\n",
       "      <td>0.0</td>\n",
       "      <td>0.0</td>\n",
       "      <td>0.000006</td>\n",
       "    </tr>\n",
       "    <tr>\n",
       "      <th>1</th>\n",
       "      <td>1</td>\n",
       "      <td>1</td>\n",
       "      <td>0.000333</td>\n",
       "      <td>-0.367713</td>\n",
       "      <td>-0.228832</td>\n",
       "      <td>0.177821</td>\n",
       "      <td>0.285992</td>\n",
       "      <td>0.002226</td>\n",
       "      <td>-0.043930</td>\n",
       "      <td>0.0</td>\n",
       "      <td>0.0</td>\n",
       "      <td>0.000243</td>\n",
       "    </tr>\n",
       "    <tr>\n",
       "      <th>2</th>\n",
       "      <td>1</td>\n",
       "      <td>1</td>\n",
       "      <td>0.000667</td>\n",
       "      <td>0.113269</td>\n",
       "      <td>0.149706</td>\n",
       "      <td>-0.398371</td>\n",
       "      <td>-0.091625</td>\n",
       "      <td>0.002226</td>\n",
       "      <td>0.454299</td>\n",
       "      <td>0.0</td>\n",
       "      <td>0.0</td>\n",
       "      <td>0.000369</td>\n",
       "    </tr>\n",
       "    <tr>\n",
       "      <th>3</th>\n",
       "      <td>1</td>\n",
       "      <td>1</td>\n",
       "      <td>0.001000</td>\n",
       "      <td>-0.175320</td>\n",
       "      <td>-0.228832</td>\n",
       "      <td>-0.110275</td>\n",
       "      <td>0.285992</td>\n",
       "      <td>0.002226</td>\n",
       "      <td>0.255007</td>\n",
       "      <td>0.0</td>\n",
       "      <td>0.0</td>\n",
       "      <td>0.000520</td>\n",
       "    </tr>\n",
       "    <tr>\n",
       "      <th>4</th>\n",
       "      <td>1</td>\n",
       "      <td>1</td>\n",
       "      <td>0.001333</td>\n",
       "      <td>-0.079124</td>\n",
       "      <td>0.055072</td>\n",
       "      <td>-0.110275</td>\n",
       "      <td>0.191588</td>\n",
       "      <td>0.002226</td>\n",
       "      <td>0.255007</td>\n",
       "      <td>0.0</td>\n",
       "      <td>0.0</td>\n",
       "      <td>0.000175</td>\n",
       "    </tr>\n",
       "  </tbody>\n",
       "</table>\n",
       "</div>"
      ],
      "text/plain": [
       "   experiment_id  bearing_2_id  timestamp      a1_x      a1_y      a1_z  \\\n",
       "0              1             1   0.000000  0.113269  0.149706 -0.110275   \n",
       "1              1             1   0.000333 -0.367713 -0.228832  0.177821   \n",
       "2              1             1   0.000667  0.113269  0.149706 -0.398371   \n",
       "3              1             1   0.001000 -0.175320 -0.228832 -0.110275   \n",
       "4              1             1   0.001333 -0.079124  0.055072 -0.110275   \n",
       "\n",
       "       a2_x      a2_y      a2_z  rpm   hz         w  \n",
       "0 -0.186030  0.194450  0.454299  0.0  0.0  0.000006  \n",
       "1  0.285992  0.002226 -0.043930  0.0  0.0  0.000243  \n",
       "2 -0.091625  0.002226  0.454299  0.0  0.0  0.000369  \n",
       "3  0.285992  0.002226  0.255007  0.0  0.0  0.000520  \n",
       "4  0.191588  0.002226  0.255007  0.0  0.0  0.000175  "
      ]
     },
     "execution_count": 15,
     "metadata": {},
     "output_type": "execute_result"
    }
   ],
   "source": [
    "bearings_signals = bearings_signals.drop('bearing_1_id', axis=1)\n",
    "bearings_signals.head()"
   ]
  },
  {
   "cell_type": "code",
   "execution_count": 16,
   "id": "c3df4e86",
   "metadata": {},
   "outputs": [],
   "source": [
    "bearings_signals.rename(columns={'bearing_2_id': 'bearing_id'}, inplace=True)"
   ]
  },
  {
   "cell_type": "code",
   "execution_count": 17,
   "id": "e71a6603",
   "metadata": {},
   "outputs": [
    {
     "data": {
      "text/html": [
       "<div>\n",
       "<style scoped>\n",
       "    .dataframe tbody tr th:only-of-type {\n",
       "        vertical-align: middle;\n",
       "    }\n",
       "\n",
       "    .dataframe tbody tr th {\n",
       "        vertical-align: top;\n",
       "    }\n",
       "\n",
       "    .dataframe thead th {\n",
       "        text-align: right;\n",
       "    }\n",
       "</style>\n",
       "<table border=\"1\" class=\"dataframe\">\n",
       "  <thead>\n",
       "    <tr style=\"text-align: right;\">\n",
       "      <th></th>\n",
       "      <th>experiment_id</th>\n",
       "      <th>bearing_id</th>\n",
       "      <th>timestamp</th>\n",
       "      <th>a1_x</th>\n",
       "      <th>a1_y</th>\n",
       "      <th>a1_z</th>\n",
       "      <th>a2_x</th>\n",
       "      <th>a2_y</th>\n",
       "      <th>a2_z</th>\n",
       "      <th>rpm</th>\n",
       "      <th>hz</th>\n",
       "      <th>w</th>\n",
       "      <th>status</th>\n",
       "    </tr>\n",
       "  </thead>\n",
       "  <tbody>\n",
       "    <tr>\n",
       "      <th>0</th>\n",
       "      <td>1</td>\n",
       "      <td>1</td>\n",
       "      <td>0.000000</td>\n",
       "      <td>0.113269</td>\n",
       "      <td>0.149706</td>\n",
       "      <td>-0.110275</td>\n",
       "      <td>-0.186030</td>\n",
       "      <td>0.194450</td>\n",
       "      <td>0.454299</td>\n",
       "      <td>0.0</td>\n",
       "      <td>0.0</td>\n",
       "      <td>0.000006</td>\n",
       "      <td>0</td>\n",
       "    </tr>\n",
       "    <tr>\n",
       "      <th>1</th>\n",
       "      <td>1</td>\n",
       "      <td>1</td>\n",
       "      <td>0.000333</td>\n",
       "      <td>-0.367713</td>\n",
       "      <td>-0.228832</td>\n",
       "      <td>0.177821</td>\n",
       "      <td>0.285992</td>\n",
       "      <td>0.002226</td>\n",
       "      <td>-0.043930</td>\n",
       "      <td>0.0</td>\n",
       "      <td>0.0</td>\n",
       "      <td>0.000243</td>\n",
       "      <td>0</td>\n",
       "    </tr>\n",
       "    <tr>\n",
       "      <th>2</th>\n",
       "      <td>1</td>\n",
       "      <td>1</td>\n",
       "      <td>0.000667</td>\n",
       "      <td>0.113269</td>\n",
       "      <td>0.149706</td>\n",
       "      <td>-0.398371</td>\n",
       "      <td>-0.091625</td>\n",
       "      <td>0.002226</td>\n",
       "      <td>0.454299</td>\n",
       "      <td>0.0</td>\n",
       "      <td>0.0</td>\n",
       "      <td>0.000369</td>\n",
       "      <td>0</td>\n",
       "    </tr>\n",
       "    <tr>\n",
       "      <th>3</th>\n",
       "      <td>1</td>\n",
       "      <td>1</td>\n",
       "      <td>0.001000</td>\n",
       "      <td>-0.175320</td>\n",
       "      <td>-0.228832</td>\n",
       "      <td>-0.110275</td>\n",
       "      <td>0.285992</td>\n",
       "      <td>0.002226</td>\n",
       "      <td>0.255007</td>\n",
       "      <td>0.0</td>\n",
       "      <td>0.0</td>\n",
       "      <td>0.000520</td>\n",
       "      <td>0</td>\n",
       "    </tr>\n",
       "    <tr>\n",
       "      <th>4</th>\n",
       "      <td>1</td>\n",
       "      <td>1</td>\n",
       "      <td>0.001333</td>\n",
       "      <td>-0.079124</td>\n",
       "      <td>0.055072</td>\n",
       "      <td>-0.110275</td>\n",
       "      <td>0.191588</td>\n",
       "      <td>0.002226</td>\n",
       "      <td>0.255007</td>\n",
       "      <td>0.0</td>\n",
       "      <td>0.0</td>\n",
       "      <td>0.000175</td>\n",
       "      <td>0</td>\n",
       "    </tr>\n",
       "  </tbody>\n",
       "</table>\n",
       "</div>"
      ],
      "text/plain": [
       "   experiment_id  bearing_id  timestamp      a1_x      a1_y      a1_z  \\\n",
       "0              1           1   0.000000  0.113269  0.149706 -0.110275   \n",
       "1              1           1   0.000333 -0.367713 -0.228832  0.177821   \n",
       "2              1           1   0.000667  0.113269  0.149706 -0.398371   \n",
       "3              1           1   0.001000 -0.175320 -0.228832 -0.110275   \n",
       "4              1           1   0.001333 -0.079124  0.055072 -0.110275   \n",
       "\n",
       "       a2_x      a2_y      a2_z  rpm   hz         w  status  \n",
       "0 -0.186030  0.194450  0.454299  0.0  0.0  0.000006       0  \n",
       "1  0.285992  0.002226 -0.043930  0.0  0.0  0.000243       0  \n",
       "2 -0.091625  0.002226  0.454299  0.0  0.0  0.000369       0  \n",
       "3  0.285992  0.002226  0.255007  0.0  0.0  0.000520       0  \n",
       "4  0.191588  0.002226  0.255007  0.0  0.0  0.000175       0  "
      ]
     },
     "execution_count": 17,
     "metadata": {},
     "output_type": "execute_result"
    }
   ],
   "source": [
    "df = pd.merge(bearings_signals, bearings_classes, on='bearing_id')\n",
    "df.head()"
   ]
  },
  {
   "cell_type": "code",
   "execution_count": 18,
   "id": "2d82db2b",
   "metadata": {},
   "outputs": [],
   "source": [
    "#sns.countplot(x = 'status', data = df)\n",
    "#plt.title('Counting status')"
   ]
  },
  {
   "cell_type": "code",
   "execution_count": 19,
   "id": "a75a414b",
   "metadata": {},
   "outputs": [],
   "source": [
    "#sns.FacetGrid(df, size = 6).map(sns.distplot, ‘rpm’).add_legend()"
   ]
  },
  {
   "cell_type": "code",
   "execution_count": 20,
   "id": "511efa41",
   "metadata": {},
   "outputs": [
    {
     "data": {
      "text/plain": [
       "experiment_id        56.588971\n",
       "bearing_id           56.588971\n",
       "timestamp            15.567967\n",
       "a1_x                 -0.220073\n",
       "a1_y                 -0.048326\n",
       "a1_z                 -0.052549\n",
       "a2_x                 -0.312419\n",
       "a2_y                 -0.087583\n",
       "a2_z                  0.071022\n",
       "rpm             -276005.894337\n",
       "hz                -4600.098239\n",
       "w                     0.462974\n",
       "status                0.112598\n",
       "dtype: float64"
      ]
     },
     "execution_count": 20,
     "metadata": {},
     "output_type": "execute_result"
    }
   ],
   "source": [
    "df.mean()"
   ]
  },
  {
   "cell_type": "code",
   "execution_count": 21,
   "id": "54b4fcaa",
   "metadata": {},
   "outputs": [],
   "source": [
    "#df['timestamp'] = pd.to_datetime(df['timestamp'])"
   ]
  },
  {
   "cell_type": "code",
   "execution_count": 22,
   "id": "204f0670",
   "metadata": {},
   "outputs": [],
   "source": [
    "#df.timestamp.dtypes"
   ]
  },
  {
   "cell_type": "code",
   "execution_count": 23,
   "id": "513ba139",
   "metadata": {},
   "outputs": [],
   "source": [
    "#df['timestamp'].min(), df['timestamp'].max(), (df['timestamp'].max() -df['timestamp'].min())"
   ]
  },
  {
   "cell_type": "code",
   "execution_count": 24,
   "id": "7a15535e",
   "metadata": {},
   "outputs": [],
   "source": [
    "#df['rolling_mean_a1_x'] = df['a1_x'].rolling(window=7).mean()"
   ]
  },
  {
   "cell_type": "code",
   "execution_count": 25,
   "id": "f1f39c7a",
   "metadata": {},
   "outputs": [],
   "source": [
    "#df.index = df.timestamp"
   ]
  },
  {
   "cell_type": "code",
   "execution_count": 26,
   "id": "d0617499",
   "metadata": {},
   "outputs": [],
   "source": [
    "#df['timestamp'] = pd.to_datetime(df['timestamp'])"
   ]
  },
  {
   "cell_type": "code",
   "execution_count": 27,
   "id": "9c9f9eaf",
   "metadata": {},
   "outputs": [
    {
     "data": {
      "text/plain": [
       "dtype('float64')"
      ]
     },
     "execution_count": 27,
     "metadata": {},
     "output_type": "execute_result"
    }
   ],
   "source": [
    "df.timestamp.dtypes"
   ]
  },
  {
   "cell_type": "code",
   "execution_count": 28,
   "id": "b95d7d5a",
   "metadata": {},
   "outputs": [
    {
     "data": {
      "text/plain": [
       "0           0\n",
       "1           0\n",
       "2           0\n",
       "3           0\n",
       "4           0\n",
       "           ..\n",
       "10265695    2\n",
       "10265696    2\n",
       "10265697    2\n",
       "10265698    2\n",
       "10265699    2\n",
       "Name: hz, Length: 10265700, dtype: int32"
      ]
     },
     "execution_count": 28,
     "metadata": {},
     "output_type": "execute_result"
    }
   ],
   "source": [
    "df.hz.astype(int)"
   ]
  },
  {
   "cell_type": "code",
   "execution_count": 29,
   "id": "19866396",
   "metadata": {},
   "outputs": [
    {
     "data": {
      "text/html": [
       "<div>\n",
       "<style scoped>\n",
       "    .dataframe tbody tr th:only-of-type {\n",
       "        vertical-align: middle;\n",
       "    }\n",
       "\n",
       "    .dataframe tbody tr th {\n",
       "        vertical-align: top;\n",
       "    }\n",
       "\n",
       "    .dataframe thead th {\n",
       "        text-align: right;\n",
       "    }\n",
       "</style>\n",
       "<table border=\"1\" class=\"dataframe\">\n",
       "  <thead>\n",
       "    <tr style=\"text-align: right;\">\n",
       "      <th></th>\n",
       "      <th>experiment_id</th>\n",
       "      <th>bearing_id</th>\n",
       "      <th>timestamp</th>\n",
       "      <th>a1_x</th>\n",
       "      <th>a1_y</th>\n",
       "      <th>a1_z</th>\n",
       "      <th>a2_x</th>\n",
       "      <th>a2_y</th>\n",
       "      <th>a2_z</th>\n",
       "      <th>rpm</th>\n",
       "      <th>hz</th>\n",
       "      <th>w</th>\n",
       "      <th>status</th>\n",
       "    </tr>\n",
       "  </thead>\n",
       "  <tbody>\n",
       "    <tr>\n",
       "      <th>0</th>\n",
       "      <td>1</td>\n",
       "      <td>1</td>\n",
       "      <td>0.000000</td>\n",
       "      <td>0.113269</td>\n",
       "      <td>0.149706</td>\n",
       "      <td>-0.110275</td>\n",
       "      <td>-0.186030</td>\n",
       "      <td>0.194450</td>\n",
       "      <td>0.454299</td>\n",
       "      <td>0.0</td>\n",
       "      <td>0.0</td>\n",
       "      <td>0.000006</td>\n",
       "      <td>0</td>\n",
       "    </tr>\n",
       "    <tr>\n",
       "      <th>1</th>\n",
       "      <td>1</td>\n",
       "      <td>1</td>\n",
       "      <td>0.000333</td>\n",
       "      <td>-0.367713</td>\n",
       "      <td>-0.228832</td>\n",
       "      <td>0.177821</td>\n",
       "      <td>0.285992</td>\n",
       "      <td>0.002226</td>\n",
       "      <td>-0.043930</td>\n",
       "      <td>0.0</td>\n",
       "      <td>0.0</td>\n",
       "      <td>0.000243</td>\n",
       "      <td>0</td>\n",
       "    </tr>\n",
       "    <tr>\n",
       "      <th>2</th>\n",
       "      <td>1</td>\n",
       "      <td>1</td>\n",
       "      <td>0.000667</td>\n",
       "      <td>0.113269</td>\n",
       "      <td>0.149706</td>\n",
       "      <td>-0.398371</td>\n",
       "      <td>-0.091625</td>\n",
       "      <td>0.002226</td>\n",
       "      <td>0.454299</td>\n",
       "      <td>0.0</td>\n",
       "      <td>0.0</td>\n",
       "      <td>0.000369</td>\n",
       "      <td>0</td>\n",
       "    </tr>\n",
       "    <tr>\n",
       "      <th>3</th>\n",
       "      <td>1</td>\n",
       "      <td>1</td>\n",
       "      <td>0.001000</td>\n",
       "      <td>-0.175320</td>\n",
       "      <td>-0.228832</td>\n",
       "      <td>-0.110275</td>\n",
       "      <td>0.285992</td>\n",
       "      <td>0.002226</td>\n",
       "      <td>0.255007</td>\n",
       "      <td>0.0</td>\n",
       "      <td>0.0</td>\n",
       "      <td>0.000520</td>\n",
       "      <td>0</td>\n",
       "    </tr>\n",
       "    <tr>\n",
       "      <th>4</th>\n",
       "      <td>1</td>\n",
       "      <td>1</td>\n",
       "      <td>0.001333</td>\n",
       "      <td>-0.079124</td>\n",
       "      <td>0.055072</td>\n",
       "      <td>-0.110275</td>\n",
       "      <td>0.191588</td>\n",
       "      <td>0.002226</td>\n",
       "      <td>0.255007</td>\n",
       "      <td>0.0</td>\n",
       "      <td>0.0</td>\n",
       "      <td>0.000175</td>\n",
       "      <td>0</td>\n",
       "    </tr>\n",
       "    <tr>\n",
       "      <th>5</th>\n",
       "      <td>1</td>\n",
       "      <td>1</td>\n",
       "      <td>0.001667</td>\n",
       "      <td>-0.175320</td>\n",
       "      <td>-0.039563</td>\n",
       "      <td>-0.110275</td>\n",
       "      <td>0.191588</td>\n",
       "      <td>0.194450</td>\n",
       "      <td>0.255007</td>\n",
       "      <td>0.0</td>\n",
       "      <td>0.0</td>\n",
       "      <td>0.000520</td>\n",
       "      <td>0</td>\n",
       "    </tr>\n",
       "    <tr>\n",
       "      <th>6</th>\n",
       "      <td>1</td>\n",
       "      <td>1</td>\n",
       "      <td>0.002000</td>\n",
       "      <td>-0.175320</td>\n",
       "      <td>-0.039563</td>\n",
       "      <td>0.081789</td>\n",
       "      <td>0.097183</td>\n",
       "      <td>-0.189997</td>\n",
       "      <td>0.055715</td>\n",
       "      <td>0.0</td>\n",
       "      <td>0.0</td>\n",
       "      <td>0.000243</td>\n",
       "      <td>0</td>\n",
       "    </tr>\n",
       "    <tr>\n",
       "      <th>7</th>\n",
       "      <td>1</td>\n",
       "      <td>1</td>\n",
       "      <td>0.002333</td>\n",
       "      <td>0.113269</td>\n",
       "      <td>0.055072</td>\n",
       "      <td>-0.398371</td>\n",
       "      <td>0.097183</td>\n",
       "      <td>0.194450</td>\n",
       "      <td>0.454299</td>\n",
       "      <td>0.0</td>\n",
       "      <td>0.0</td>\n",
       "      <td>0.000697</td>\n",
       "      <td>0</td>\n",
       "    </tr>\n",
       "    <tr>\n",
       "      <th>8</th>\n",
       "      <td>1</td>\n",
       "      <td>1</td>\n",
       "      <td>0.002667</td>\n",
       "      <td>-0.367713</td>\n",
       "      <td>0.055072</td>\n",
       "      <td>-0.110275</td>\n",
       "      <td>0.191588</td>\n",
       "      <td>0.002226</td>\n",
       "      <td>-0.043930</td>\n",
       "      <td>0.0</td>\n",
       "      <td>0.0</td>\n",
       "      <td>0.000243</td>\n",
       "      <td>0</td>\n",
       "    </tr>\n",
       "    <tr>\n",
       "      <th>9</th>\n",
       "      <td>1</td>\n",
       "      <td>1</td>\n",
       "      <td>0.003000</td>\n",
       "      <td>-0.079124</td>\n",
       "      <td>0.055072</td>\n",
       "      <td>-0.206307</td>\n",
       "      <td>-0.091625</td>\n",
       "      <td>0.002226</td>\n",
       "      <td>0.454299</td>\n",
       "      <td>0.0</td>\n",
       "      <td>0.0</td>\n",
       "      <td>0.000070</td>\n",
       "      <td>0</td>\n",
       "    </tr>\n",
       "    <tr>\n",
       "      <th>10</th>\n",
       "      <td>1</td>\n",
       "      <td>1</td>\n",
       "      <td>0.003333</td>\n",
       "      <td>-0.079124</td>\n",
       "      <td>0.055072</td>\n",
       "      <td>-0.014243</td>\n",
       "      <td>0.285992</td>\n",
       "      <td>0.002226</td>\n",
       "      <td>-0.043930</td>\n",
       "      <td>0.0</td>\n",
       "      <td>0.0</td>\n",
       "      <td>0.000369</td>\n",
       "      <td>0</td>\n",
       "    </tr>\n",
       "    <tr>\n",
       "      <th>11</th>\n",
       "      <td>1</td>\n",
       "      <td>1</td>\n",
       "      <td>0.003667</td>\n",
       "      <td>0.017072</td>\n",
       "      <td>0.149706</td>\n",
       "      <td>-0.110275</td>\n",
       "      <td>-0.091625</td>\n",
       "      <td>0.098338</td>\n",
       "      <td>0.255007</td>\n",
       "      <td>0.0</td>\n",
       "      <td>0.0</td>\n",
       "      <td>0.000369</td>\n",
       "      <td>0</td>\n",
       "    </tr>\n",
       "    <tr>\n",
       "      <th>12</th>\n",
       "      <td>1</td>\n",
       "      <td>1</td>\n",
       "      <td>0.004000</td>\n",
       "      <td>-0.175320</td>\n",
       "      <td>-0.228832</td>\n",
       "      <td>-0.110275</td>\n",
       "      <td>0.191588</td>\n",
       "      <td>0.098338</td>\n",
       "      <td>0.155361</td>\n",
       "      <td>0.0</td>\n",
       "      <td>0.0</td>\n",
       "      <td>0.000369</td>\n",
       "      <td>0</td>\n",
       "    </tr>\n",
       "    <tr>\n",
       "      <th>13</th>\n",
       "      <td>1</td>\n",
       "      <td>1</td>\n",
       "      <td>0.004333</td>\n",
       "      <td>-0.175320</td>\n",
       "      <td>0.055072</td>\n",
       "      <td>-0.110275</td>\n",
       "      <td>0.191588</td>\n",
       "      <td>-0.286109</td>\n",
       "      <td>0.155361</td>\n",
       "      <td>0.0</td>\n",
       "      <td>0.0</td>\n",
       "      <td>0.000283</td>\n",
       "      <td>0</td>\n",
       "    </tr>\n",
       "    <tr>\n",
       "      <th>14</th>\n",
       "      <td>1</td>\n",
       "      <td>1</td>\n",
       "      <td>0.004667</td>\n",
       "      <td>-0.079124</td>\n",
       "      <td>0.055072</td>\n",
       "      <td>-0.398371</td>\n",
       "      <td>0.191588</td>\n",
       "      <td>0.290562</td>\n",
       "      <td>0.155361</td>\n",
       "      <td>0.0</td>\n",
       "      <td>0.0</td>\n",
       "      <td>0.000369</td>\n",
       "      <td>0</td>\n",
       "    </tr>\n",
       "    <tr>\n",
       "      <th>15</th>\n",
       "      <td>1</td>\n",
       "      <td>1</td>\n",
       "      <td>0.005000</td>\n",
       "      <td>-0.367713</td>\n",
       "      <td>-0.039563</td>\n",
       "      <td>0.177821</td>\n",
       "      <td>0.097183</td>\n",
       "      <td>0.098338</td>\n",
       "      <td>0.255007</td>\n",
       "      <td>0.0</td>\n",
       "      <td>0.0</td>\n",
       "      <td>0.000070</td>\n",
       "      <td>0</td>\n",
       "    </tr>\n",
       "    <tr>\n",
       "      <th>16</th>\n",
       "      <td>1</td>\n",
       "      <td>1</td>\n",
       "      <td>0.005333</td>\n",
       "      <td>0.113269</td>\n",
       "      <td>0.055072</td>\n",
       "      <td>-0.302339</td>\n",
       "      <td>-0.186030</td>\n",
       "      <td>0.194450</td>\n",
       "      <td>0.354653</td>\n",
       "      <td>0.0</td>\n",
       "      <td>0.0</td>\n",
       "      <td>0.000520</td>\n",
       "      <td>0</td>\n",
       "    </tr>\n",
       "    <tr>\n",
       "      <th>17</th>\n",
       "      <td>1</td>\n",
       "      <td>1</td>\n",
       "      <td>0.005667</td>\n",
       "      <td>-0.463909</td>\n",
       "      <td>-0.228832</td>\n",
       "      <td>0.177821</td>\n",
       "      <td>0.380396</td>\n",
       "      <td>0.002226</td>\n",
       "      <td>-0.143576</td>\n",
       "      <td>0.0</td>\n",
       "      <td>0.0</td>\n",
       "      <td>0.000144</td>\n",
       "      <td>0</td>\n",
       "    </tr>\n",
       "    <tr>\n",
       "      <th>18</th>\n",
       "      <td>1</td>\n",
       "      <td>1</td>\n",
       "      <td>0.006000</td>\n",
       "      <td>-0.079124</td>\n",
       "      <td>0.244341</td>\n",
       "      <td>-0.110275</td>\n",
       "      <td>-0.091625</td>\n",
       "      <td>0.098338</td>\n",
       "      <td>0.454299</td>\n",
       "      <td>0.0</td>\n",
       "      <td>0.0</td>\n",
       "      <td>0.000070</td>\n",
       "      <td>0</td>\n",
       "    </tr>\n",
       "    <tr>\n",
       "      <th>19</th>\n",
       "      <td>1</td>\n",
       "      <td>1</td>\n",
       "      <td>0.006333</td>\n",
       "      <td>-0.079124</td>\n",
       "      <td>-0.228832</td>\n",
       "      <td>-0.110275</td>\n",
       "      <td>0.285992</td>\n",
       "      <td>0.290562</td>\n",
       "      <td>-0.043930</td>\n",
       "      <td>0.0</td>\n",
       "      <td>0.0</td>\n",
       "      <td>0.000243</td>\n",
       "      <td>0</td>\n",
       "    </tr>\n",
       "    <tr>\n",
       "      <th>20</th>\n",
       "      <td>1</td>\n",
       "      <td>1</td>\n",
       "      <td>0.006667</td>\n",
       "      <td>0.017072</td>\n",
       "      <td>0.149706</td>\n",
       "      <td>-0.110275</td>\n",
       "      <td>-0.186030</td>\n",
       "      <td>-0.189997</td>\n",
       "      <td>0.155361</td>\n",
       "      <td>0.0</td>\n",
       "      <td>0.0</td>\n",
       "      <td>0.000697</td>\n",
       "      <td>0</td>\n",
       "    </tr>\n",
       "    <tr>\n",
       "      <th>21</th>\n",
       "      <td>1</td>\n",
       "      <td>1</td>\n",
       "      <td>0.007000</td>\n",
       "      <td>-0.079124</td>\n",
       "      <td>-0.228832</td>\n",
       "      <td>-0.302339</td>\n",
       "      <td>0.191588</td>\n",
       "      <td>0.194450</td>\n",
       "      <td>0.255007</td>\n",
       "      <td>0.0</td>\n",
       "      <td>0.0</td>\n",
       "      <td>0.000520</td>\n",
       "      <td>0</td>\n",
       "    </tr>\n",
       "    <tr>\n",
       "      <th>22</th>\n",
       "      <td>1</td>\n",
       "      <td>1</td>\n",
       "      <td>0.007333</td>\n",
       "      <td>-0.271517</td>\n",
       "      <td>0.244341</td>\n",
       "      <td>0.177821</td>\n",
       "      <td>0.097183</td>\n",
       "      <td>0.098338</td>\n",
       "      <td>0.255007</td>\n",
       "      <td>0.0</td>\n",
       "      <td>0.0</td>\n",
       "      <td>0.000093</td>\n",
       "      <td>0</td>\n",
       "    </tr>\n",
       "    <tr>\n",
       "      <th>23</th>\n",
       "      <td>1</td>\n",
       "      <td>1</td>\n",
       "      <td>0.007667</td>\n",
       "      <td>0.113269</td>\n",
       "      <td>0.055072</td>\n",
       "      <td>-0.398371</td>\n",
       "      <td>0.191588</td>\n",
       "      <td>0.002226</td>\n",
       "      <td>0.155361</td>\n",
       "      <td>0.0</td>\n",
       "      <td>0.0</td>\n",
       "      <td>0.000697</td>\n",
       "      <td>0</td>\n",
       "    </tr>\n",
       "    <tr>\n",
       "      <th>24</th>\n",
       "      <td>1</td>\n",
       "      <td>1</td>\n",
       "      <td>0.008000</td>\n",
       "      <td>-0.367713</td>\n",
       "      <td>0.055072</td>\n",
       "      <td>-0.110275</td>\n",
       "      <td>0.097183</td>\n",
       "      <td>0.002226</td>\n",
       "      <td>-0.043930</td>\n",
       "      <td>0.0</td>\n",
       "      <td>0.0</td>\n",
       "      <td>0.000144</td>\n",
       "      <td>0</td>\n",
       "    </tr>\n",
       "    <tr>\n",
       "      <th>25</th>\n",
       "      <td>1</td>\n",
       "      <td>1</td>\n",
       "      <td>0.008333</td>\n",
       "      <td>0.017072</td>\n",
       "      <td>0.055072</td>\n",
       "      <td>-0.110275</td>\n",
       "      <td>-0.186030</td>\n",
       "      <td>0.002226</td>\n",
       "      <td>0.454299</td>\n",
       "      <td>0.0</td>\n",
       "      <td>0.0</td>\n",
       "      <td>0.000520</td>\n",
       "      <td>0</td>\n",
       "    </tr>\n",
       "    <tr>\n",
       "      <th>26</th>\n",
       "      <td>1</td>\n",
       "      <td>1</td>\n",
       "      <td>0.008667</td>\n",
       "      <td>-0.271517</td>\n",
       "      <td>-0.228832</td>\n",
       "      <td>-0.110275</td>\n",
       "      <td>0.285992</td>\n",
       "      <td>0.098338</td>\n",
       "      <td>0.255007</td>\n",
       "      <td>0.0</td>\n",
       "      <td>0.0</td>\n",
       "      <td>0.000520</td>\n",
       "      <td>0</td>\n",
       "    </tr>\n",
       "    <tr>\n",
       "      <th>27</th>\n",
       "      <td>1</td>\n",
       "      <td>1</td>\n",
       "      <td>0.009000</td>\n",
       "      <td>-0.079124</td>\n",
       "      <td>0.244341</td>\n",
       "      <td>-0.206307</td>\n",
       "      <td>-0.091625</td>\n",
       "      <td>0.098338</td>\n",
       "      <td>0.255007</td>\n",
       "      <td>0.0</td>\n",
       "      <td>0.0</td>\n",
       "      <td>0.000023</td>\n",
       "      <td>0</td>\n",
       "    </tr>\n",
       "    <tr>\n",
       "      <th>28</th>\n",
       "      <td>1</td>\n",
       "      <td>1</td>\n",
       "      <td>0.009333</td>\n",
       "      <td>-0.175320</td>\n",
       "      <td>-0.039563</td>\n",
       "      <td>-0.110275</td>\n",
       "      <td>0.191588</td>\n",
       "      <td>0.290562</td>\n",
       "      <td>0.255007</td>\n",
       "      <td>0.0</td>\n",
       "      <td>0.0</td>\n",
       "      <td>0.000697</td>\n",
       "      <td>0</td>\n",
       "    </tr>\n",
       "    <tr>\n",
       "      <th>29</th>\n",
       "      <td>1</td>\n",
       "      <td>1</td>\n",
       "      <td>0.009667</td>\n",
       "      <td>-0.079124</td>\n",
       "      <td>0.055072</td>\n",
       "      <td>0.177821</td>\n",
       "      <td>0.097183</td>\n",
       "      <td>-0.189997</td>\n",
       "      <td>-0.143576</td>\n",
       "      <td>0.0</td>\n",
       "      <td>0.0</td>\n",
       "      <td>0.000144</td>\n",
       "      <td>0</td>\n",
       "    </tr>\n",
       "    <tr>\n",
       "      <th>30</th>\n",
       "      <td>1</td>\n",
       "      <td>1</td>\n",
       "      <td>0.010000</td>\n",
       "      <td>-0.079124</td>\n",
       "      <td>0.055072</td>\n",
       "      <td>-0.398371</td>\n",
       "      <td>-0.091625</td>\n",
       "      <td>0.194450</td>\n",
       "      <td>0.155361</td>\n",
       "      <td>0.0</td>\n",
       "      <td>0.0</td>\n",
       "      <td>0.000697</td>\n",
       "      <td>0</td>\n",
       "    </tr>\n",
       "    <tr>\n",
       "      <th>31</th>\n",
       "      <td>1</td>\n",
       "      <td>1</td>\n",
       "      <td>0.010333</td>\n",
       "      <td>-0.175320</td>\n",
       "      <td>-0.039563</td>\n",
       "      <td>-0.014243</td>\n",
       "      <td>0.097183</td>\n",
       "      <td>0.098338</td>\n",
       "      <td>0.255007</td>\n",
       "      <td>0.0</td>\n",
       "      <td>0.0</td>\n",
       "      <td>0.000417</td>\n",
       "      <td>0</td>\n",
       "    </tr>\n",
       "    <tr>\n",
       "      <th>32</th>\n",
       "      <td>1</td>\n",
       "      <td>1</td>\n",
       "      <td>0.010667</td>\n",
       "      <td>0.017072</td>\n",
       "      <td>0.149706</td>\n",
       "      <td>-0.110275</td>\n",
       "      <td>0.191588</td>\n",
       "      <td>0.194450</td>\n",
       "      <td>0.454299</td>\n",
       "      <td>0.0</td>\n",
       "      <td>0.0</td>\n",
       "      <td>0.000520</td>\n",
       "      <td>0</td>\n",
       "    </tr>\n",
       "    <tr>\n",
       "      <th>33</th>\n",
       "      <td>1</td>\n",
       "      <td>1</td>\n",
       "      <td>0.011000</td>\n",
       "      <td>0.017072</td>\n",
       "      <td>0.244341</td>\n",
       "      <td>-0.206307</td>\n",
       "      <td>0.380396</td>\n",
       "      <td>0.002226</td>\n",
       "      <td>-0.043930</td>\n",
       "      <td>0.0</td>\n",
       "      <td>0.0</td>\n",
       "      <td>0.000144</td>\n",
       "      <td>0</td>\n",
       "    </tr>\n",
       "    <tr>\n",
       "      <th>34</th>\n",
       "      <td>1</td>\n",
       "      <td>1</td>\n",
       "      <td>0.011333</td>\n",
       "      <td>-0.079124</td>\n",
       "      <td>0.338975</td>\n",
       "      <td>-0.110275</td>\n",
       "      <td>-0.091625</td>\n",
       "      <td>-0.189997</td>\n",
       "      <td>0.553945</td>\n",
       "      <td>0.0</td>\n",
       "      <td>0.0</td>\n",
       "      <td>0.000369</td>\n",
       "      <td>0</td>\n",
       "    </tr>\n",
       "    <tr>\n",
       "      <th>35</th>\n",
       "      <td>1</td>\n",
       "      <td>1</td>\n",
       "      <td>0.011667</td>\n",
       "      <td>0.113269</td>\n",
       "      <td>-0.228832</td>\n",
       "      <td>0.177821</td>\n",
       "      <td>0.380396</td>\n",
       "      <td>0.194450</td>\n",
       "      <td>0.055715</td>\n",
       "      <td>0.0</td>\n",
       "      <td>0.0</td>\n",
       "      <td>0.000369</td>\n",
       "      <td>0</td>\n",
       "    </tr>\n",
       "    <tr>\n",
       "      <th>36</th>\n",
       "      <td>1</td>\n",
       "      <td>1</td>\n",
       "      <td>0.012000</td>\n",
       "      <td>-0.271517</td>\n",
       "      <td>0.244341</td>\n",
       "      <td>0.177821</td>\n",
       "      <td>0.191588</td>\n",
       "      <td>-0.189997</td>\n",
       "      <td>0.354653</td>\n",
       "      <td>0.0</td>\n",
       "      <td>0.0</td>\n",
       "      <td>0.000144</td>\n",
       "      <td>0</td>\n",
       "    </tr>\n",
       "    <tr>\n",
       "      <th>37</th>\n",
       "      <td>1</td>\n",
       "      <td>1</td>\n",
       "      <td>0.012333</td>\n",
       "      <td>0.209465</td>\n",
       "      <td>-0.134197</td>\n",
       "      <td>-0.398371</td>\n",
       "      <td>0.097183</td>\n",
       "      <td>0.194450</td>\n",
       "      <td>0.255007</td>\n",
       "      <td>0.0</td>\n",
       "      <td>0.0</td>\n",
       "      <td>0.000369</td>\n",
       "      <td>0</td>\n",
       "    </tr>\n",
       "    <tr>\n",
       "      <th>38</th>\n",
       "      <td>1</td>\n",
       "      <td>1</td>\n",
       "      <td>0.012667</td>\n",
       "      <td>-0.271517</td>\n",
       "      <td>0.055072</td>\n",
       "      <td>0.081789</td>\n",
       "      <td>0.380396</td>\n",
       "      <td>-0.189997</td>\n",
       "      <td>-0.043930</td>\n",
       "      <td>0.0</td>\n",
       "      <td>0.0</td>\n",
       "      <td>0.000144</td>\n",
       "      <td>0</td>\n",
       "    </tr>\n",
       "    <tr>\n",
       "      <th>39</th>\n",
       "      <td>1</td>\n",
       "      <td>1</td>\n",
       "      <td>0.013000</td>\n",
       "      <td>0.113269</td>\n",
       "      <td>0.244341</td>\n",
       "      <td>-0.302339</td>\n",
       "      <td>0.191588</td>\n",
       "      <td>0.098338</td>\n",
       "      <td>0.454299</td>\n",
       "      <td>0.0</td>\n",
       "      <td>0.0</td>\n",
       "      <td>0.000243</td>\n",
       "      <td>0</td>\n",
       "    </tr>\n",
       "    <tr>\n",
       "      <th>40</th>\n",
       "      <td>1</td>\n",
       "      <td>1</td>\n",
       "      <td>0.013333</td>\n",
       "      <td>-0.079124</td>\n",
       "      <td>0.055072</td>\n",
       "      <td>-0.014243</td>\n",
       "      <td>0.285992</td>\n",
       "      <td>0.002226</td>\n",
       "      <td>-0.043930</td>\n",
       "      <td>0.0</td>\n",
       "      <td>0.0</td>\n",
       "      <td>0.000023</td>\n",
       "      <td>0</td>\n",
       "    </tr>\n",
       "    <tr>\n",
       "      <th>41</th>\n",
       "      <td>1</td>\n",
       "      <td>1</td>\n",
       "      <td>0.013667</td>\n",
       "      <td>-0.079124</td>\n",
       "      <td>0.244341</td>\n",
       "      <td>-0.110275</td>\n",
       "      <td>-0.091625</td>\n",
       "      <td>-0.189997</td>\n",
       "      <td>0.454299</td>\n",
       "      <td>0.0</td>\n",
       "      <td>0.0</td>\n",
       "      <td>0.000369</td>\n",
       "      <td>0</td>\n",
       "    </tr>\n",
       "    <tr>\n",
       "      <th>42</th>\n",
       "      <td>1</td>\n",
       "      <td>1</td>\n",
       "      <td>0.014000</td>\n",
       "      <td>-0.175320</td>\n",
       "      <td>-0.134197</td>\n",
       "      <td>-0.398371</td>\n",
       "      <td>0.380396</td>\n",
       "      <td>0.290562</td>\n",
       "      <td>-0.043930</td>\n",
       "      <td>0.0</td>\n",
       "      <td>0.0</td>\n",
       "      <td>0.000520</td>\n",
       "      <td>0</td>\n",
       "    </tr>\n",
       "    <tr>\n",
       "      <th>43</th>\n",
       "      <td>1</td>\n",
       "      <td>1</td>\n",
       "      <td>0.014333</td>\n",
       "      <td>-0.367713</td>\n",
       "      <td>0.244341</td>\n",
       "      <td>0.081789</td>\n",
       "      <td>0.002779</td>\n",
       "      <td>-0.189997</td>\n",
       "      <td>0.155361</td>\n",
       "      <td>0.0</td>\n",
       "      <td>0.0</td>\n",
       "      <td>0.000175</td>\n",
       "      <td>0</td>\n",
       "    </tr>\n",
       "    <tr>\n",
       "      <th>44</th>\n",
       "      <td>1</td>\n",
       "      <td>1</td>\n",
       "      <td>0.014667</td>\n",
       "      <td>0.209465</td>\n",
       "      <td>-0.228832</td>\n",
       "      <td>-0.398371</td>\n",
       "      <td>0.097183</td>\n",
       "      <td>0.290562</td>\n",
       "      <td>0.255007</td>\n",
       "      <td>0.0</td>\n",
       "      <td>0.0</td>\n",
       "      <td>0.000144</td>\n",
       "      <td>0</td>\n",
       "    </tr>\n",
       "    <tr>\n",
       "      <th>45</th>\n",
       "      <td>1</td>\n",
       "      <td>1</td>\n",
       "      <td>0.015000</td>\n",
       "      <td>-0.271517</td>\n",
       "      <td>0.055072</td>\n",
       "      <td>0.081789</td>\n",
       "      <td>0.097183</td>\n",
       "      <td>-0.189997</td>\n",
       "      <td>0.155361</td>\n",
       "      <td>0.0</td>\n",
       "      <td>0.0</td>\n",
       "      <td>0.000144</td>\n",
       "      <td>0</td>\n",
       "    </tr>\n",
       "    <tr>\n",
       "      <th>46</th>\n",
       "      <td>1</td>\n",
       "      <td>1</td>\n",
       "      <td>0.015333</td>\n",
       "      <td>0.113269</td>\n",
       "      <td>0.055072</td>\n",
       "      <td>-0.206307</td>\n",
       "      <td>0.191588</td>\n",
       "      <td>0.098338</td>\n",
       "      <td>0.454299</td>\n",
       "      <td>0.0</td>\n",
       "      <td>0.0</td>\n",
       "      <td>0.000697</td>\n",
       "      <td>0</td>\n",
       "    </tr>\n",
       "    <tr>\n",
       "      <th>47</th>\n",
       "      <td>1</td>\n",
       "      <td>1</td>\n",
       "      <td>0.015667</td>\n",
       "      <td>-0.367713</td>\n",
       "      <td>-0.228832</td>\n",
       "      <td>0.081789</td>\n",
       "      <td>0.285992</td>\n",
       "      <td>0.002226</td>\n",
       "      <td>-0.043930</td>\n",
       "      <td>0.0</td>\n",
       "      <td>0.0</td>\n",
       "      <td>0.000036</td>\n",
       "      <td>0</td>\n",
       "    </tr>\n",
       "    <tr>\n",
       "      <th>48</th>\n",
       "      <td>1</td>\n",
       "      <td>1</td>\n",
       "      <td>0.016000</td>\n",
       "      <td>0.113269</td>\n",
       "      <td>0.244341</td>\n",
       "      <td>-0.206307</td>\n",
       "      <td>-0.091625</td>\n",
       "      <td>0.098338</td>\n",
       "      <td>0.255007</td>\n",
       "      <td>0.0</td>\n",
       "      <td>0.0</td>\n",
       "      <td>0.000243</td>\n",
       "      <td>0</td>\n",
       "    </tr>\n",
       "    <tr>\n",
       "      <th>49</th>\n",
       "      <td>1</td>\n",
       "      <td>1</td>\n",
       "      <td>0.016333</td>\n",
       "      <td>0.017072</td>\n",
       "      <td>-0.323466</td>\n",
       "      <td>-0.110275</td>\n",
       "      <td>0.191588</td>\n",
       "      <td>0.098338</td>\n",
       "      <td>0.155361</td>\n",
       "      <td>0.0</td>\n",
       "      <td>0.0</td>\n",
       "      <td>0.000520</td>\n",
       "      <td>0</td>\n",
       "    </tr>\n",
       "  </tbody>\n",
       "</table>\n",
       "</div>"
      ],
      "text/plain": [
       "    experiment_id  bearing_id  timestamp      a1_x      a1_y      a1_z  \\\n",
       "0               1           1   0.000000  0.113269  0.149706 -0.110275   \n",
       "1               1           1   0.000333 -0.367713 -0.228832  0.177821   \n",
       "2               1           1   0.000667  0.113269  0.149706 -0.398371   \n",
       "3               1           1   0.001000 -0.175320 -0.228832 -0.110275   \n",
       "4               1           1   0.001333 -0.079124  0.055072 -0.110275   \n",
       "5               1           1   0.001667 -0.175320 -0.039563 -0.110275   \n",
       "6               1           1   0.002000 -0.175320 -0.039563  0.081789   \n",
       "7               1           1   0.002333  0.113269  0.055072 -0.398371   \n",
       "8               1           1   0.002667 -0.367713  0.055072 -0.110275   \n",
       "9               1           1   0.003000 -0.079124  0.055072 -0.206307   \n",
       "10              1           1   0.003333 -0.079124  0.055072 -0.014243   \n",
       "11              1           1   0.003667  0.017072  0.149706 -0.110275   \n",
       "12              1           1   0.004000 -0.175320 -0.228832 -0.110275   \n",
       "13              1           1   0.004333 -0.175320  0.055072 -0.110275   \n",
       "14              1           1   0.004667 -0.079124  0.055072 -0.398371   \n",
       "15              1           1   0.005000 -0.367713 -0.039563  0.177821   \n",
       "16              1           1   0.005333  0.113269  0.055072 -0.302339   \n",
       "17              1           1   0.005667 -0.463909 -0.228832  0.177821   \n",
       "18              1           1   0.006000 -0.079124  0.244341 -0.110275   \n",
       "19              1           1   0.006333 -0.079124 -0.228832 -0.110275   \n",
       "20              1           1   0.006667  0.017072  0.149706 -0.110275   \n",
       "21              1           1   0.007000 -0.079124 -0.228832 -0.302339   \n",
       "22              1           1   0.007333 -0.271517  0.244341  0.177821   \n",
       "23              1           1   0.007667  0.113269  0.055072 -0.398371   \n",
       "24              1           1   0.008000 -0.367713  0.055072 -0.110275   \n",
       "25              1           1   0.008333  0.017072  0.055072 -0.110275   \n",
       "26              1           1   0.008667 -0.271517 -0.228832 -0.110275   \n",
       "27              1           1   0.009000 -0.079124  0.244341 -0.206307   \n",
       "28              1           1   0.009333 -0.175320 -0.039563 -0.110275   \n",
       "29              1           1   0.009667 -0.079124  0.055072  0.177821   \n",
       "30              1           1   0.010000 -0.079124  0.055072 -0.398371   \n",
       "31              1           1   0.010333 -0.175320 -0.039563 -0.014243   \n",
       "32              1           1   0.010667  0.017072  0.149706 -0.110275   \n",
       "33              1           1   0.011000  0.017072  0.244341 -0.206307   \n",
       "34              1           1   0.011333 -0.079124  0.338975 -0.110275   \n",
       "35              1           1   0.011667  0.113269 -0.228832  0.177821   \n",
       "36              1           1   0.012000 -0.271517  0.244341  0.177821   \n",
       "37              1           1   0.012333  0.209465 -0.134197 -0.398371   \n",
       "38              1           1   0.012667 -0.271517  0.055072  0.081789   \n",
       "39              1           1   0.013000  0.113269  0.244341 -0.302339   \n",
       "40              1           1   0.013333 -0.079124  0.055072 -0.014243   \n",
       "41              1           1   0.013667 -0.079124  0.244341 -0.110275   \n",
       "42              1           1   0.014000 -0.175320 -0.134197 -0.398371   \n",
       "43              1           1   0.014333 -0.367713  0.244341  0.081789   \n",
       "44              1           1   0.014667  0.209465 -0.228832 -0.398371   \n",
       "45              1           1   0.015000 -0.271517  0.055072  0.081789   \n",
       "46              1           1   0.015333  0.113269  0.055072 -0.206307   \n",
       "47              1           1   0.015667 -0.367713 -0.228832  0.081789   \n",
       "48              1           1   0.016000  0.113269  0.244341 -0.206307   \n",
       "49              1           1   0.016333  0.017072 -0.323466 -0.110275   \n",
       "\n",
       "        a2_x      a2_y      a2_z  rpm   hz         w  status  \n",
       "0  -0.186030  0.194450  0.454299  0.0  0.0  0.000006       0  \n",
       "1   0.285992  0.002226 -0.043930  0.0  0.0  0.000243       0  \n",
       "2  -0.091625  0.002226  0.454299  0.0  0.0  0.000369       0  \n",
       "3   0.285992  0.002226  0.255007  0.0  0.0  0.000520       0  \n",
       "4   0.191588  0.002226  0.255007  0.0  0.0  0.000175       0  \n",
       "5   0.191588  0.194450  0.255007  0.0  0.0  0.000520       0  \n",
       "6   0.097183 -0.189997  0.055715  0.0  0.0  0.000243       0  \n",
       "7   0.097183  0.194450  0.454299  0.0  0.0  0.000697       0  \n",
       "8   0.191588  0.002226 -0.043930  0.0  0.0  0.000243       0  \n",
       "9  -0.091625  0.002226  0.454299  0.0  0.0  0.000070       0  \n",
       "10  0.285992  0.002226 -0.043930  0.0  0.0  0.000369       0  \n",
       "11 -0.091625  0.098338  0.255007  0.0  0.0  0.000369       0  \n",
       "12  0.191588  0.098338  0.155361  0.0  0.0  0.000369       0  \n",
       "13  0.191588 -0.286109  0.155361  0.0  0.0  0.000283       0  \n",
       "14  0.191588  0.290562  0.155361  0.0  0.0  0.000369       0  \n",
       "15  0.097183  0.098338  0.255007  0.0  0.0  0.000070       0  \n",
       "16 -0.186030  0.194450  0.354653  0.0  0.0  0.000520       0  \n",
       "17  0.380396  0.002226 -0.143576  0.0  0.0  0.000144       0  \n",
       "18 -0.091625  0.098338  0.454299  0.0  0.0  0.000070       0  \n",
       "19  0.285992  0.290562 -0.043930  0.0  0.0  0.000243       0  \n",
       "20 -0.186030 -0.189997  0.155361  0.0  0.0  0.000697       0  \n",
       "21  0.191588  0.194450  0.255007  0.0  0.0  0.000520       0  \n",
       "22  0.097183  0.098338  0.255007  0.0  0.0  0.000093       0  \n",
       "23  0.191588  0.002226  0.155361  0.0  0.0  0.000697       0  \n",
       "24  0.097183  0.002226 -0.043930  0.0  0.0  0.000144       0  \n",
       "25 -0.186030  0.002226  0.454299  0.0  0.0  0.000520       0  \n",
       "26  0.285992  0.098338  0.255007  0.0  0.0  0.000520       0  \n",
       "27 -0.091625  0.098338  0.255007  0.0  0.0  0.000023       0  \n",
       "28  0.191588  0.290562  0.255007  0.0  0.0  0.000697       0  \n",
       "29  0.097183 -0.189997 -0.143576  0.0  0.0  0.000144       0  \n",
       "30 -0.091625  0.194450  0.155361  0.0  0.0  0.000697       0  \n",
       "31  0.097183  0.098338  0.255007  0.0  0.0  0.000417       0  \n",
       "32  0.191588  0.194450  0.454299  0.0  0.0  0.000520       0  \n",
       "33  0.380396  0.002226 -0.043930  0.0  0.0  0.000144       0  \n",
       "34 -0.091625 -0.189997  0.553945  0.0  0.0  0.000369       0  \n",
       "35  0.380396  0.194450  0.055715  0.0  0.0  0.000369       0  \n",
       "36  0.191588 -0.189997  0.354653  0.0  0.0  0.000144       0  \n",
       "37  0.097183  0.194450  0.255007  0.0  0.0  0.000369       0  \n",
       "38  0.380396 -0.189997 -0.043930  0.0  0.0  0.000144       0  \n",
       "39  0.191588  0.098338  0.454299  0.0  0.0  0.000243       0  \n",
       "40  0.285992  0.002226 -0.043930  0.0  0.0  0.000023       0  \n",
       "41 -0.091625 -0.189997  0.454299  0.0  0.0  0.000369       0  \n",
       "42  0.380396  0.290562 -0.043930  0.0  0.0  0.000520       0  \n",
       "43  0.002779 -0.189997  0.155361  0.0  0.0  0.000175       0  \n",
       "44  0.097183  0.290562  0.255007  0.0  0.0  0.000144       0  \n",
       "45  0.097183 -0.189997  0.155361  0.0  0.0  0.000144       0  \n",
       "46  0.191588  0.098338  0.454299  0.0  0.0  0.000697       0  \n",
       "47  0.285992  0.002226 -0.043930  0.0  0.0  0.000036       0  \n",
       "48 -0.091625  0.098338  0.255007  0.0  0.0  0.000243       0  \n",
       "49  0.191588  0.098338  0.155361  0.0  0.0  0.000520       0  "
      ]
     },
     "execution_count": 29,
     "metadata": {},
     "output_type": "execute_result"
    }
   ],
   "source": [
    "df.head(50)"
   ]
  },
  {
   "cell_type": "code",
   "execution_count": 30,
   "id": "dbb7d3ef",
   "metadata": {},
   "outputs": [],
   "source": [
    "#"
   ]
  },
  {
   "cell_type": "code",
   "execution_count": 31,
   "id": "cd66472b",
   "metadata": {},
   "outputs": [],
   "source": [
    "#from scipy.fft import fft\n",
    "#new_df = fft(df)"
   ]
  },
  {
   "cell_type": "code",
   "execution_count": 32,
   "id": "fd73c09b",
   "metadata": {},
   "outputs": [],
   "source": [
    "#new_df"
   ]
  },
  {
   "cell_type": "code",
   "execution_count": 33,
   "id": "8cfd856c",
   "metadata": {},
   "outputs": [
    {
     "ename": "NameError",
     "evalue": "name 'SAMPLE_RATE' is not defined",
     "output_type": "error",
     "traceback": [
      "\u001b[1;31m---------------------------------------------------------------------------\u001b[0m",
      "\u001b[1;31mNameError\u001b[0m                                 Traceback (most recent call last)",
      "\u001b[1;32m<ipython-input-33-6924a80a892f>\u001b[0m in \u001b[0;36m<module>\u001b[1;34m\u001b[0m\n\u001b[1;32m----> 1\u001b[1;33m \u001b[0mN\u001b[0m \u001b[1;33m=\u001b[0m \u001b[0mSAMPLE_RATE\u001b[0m \u001b[1;33m*\u001b[0m \u001b[0mDURATION\u001b[0m\u001b[1;33m\u001b[0m\u001b[1;33m\u001b[0m\u001b[0m\n\u001b[0m",
      "\u001b[1;31mNameError\u001b[0m: name 'SAMPLE_RATE' is not defined"
     ]
    }
   ],
   "source": [
    "N = SAMPLE_RATE * DURATION"
   ]
  },
  {
   "cell_type": "code",
   "execution_count": 34,
   "id": "d7252a04",
   "metadata": {},
   "outputs": [
    {
     "ename": "NameError",
     "evalue": "name 'N' is not defined",
     "output_type": "error",
     "traceback": [
      "\u001b[1;31m---------------------------------------------------------------------------\u001b[0m",
      "\u001b[1;31mNameError\u001b[0m                                 Traceback (most recent call last)",
      "\u001b[1;32m<ipython-input-34-329908838661>\u001b[0m in \u001b[0;36m<module>\u001b[1;34m\u001b[0m\n\u001b[0;32m      1\u001b[0m \u001b[1;32mfrom\u001b[0m \u001b[0mscipy\u001b[0m\u001b[1;33m.\u001b[0m\u001b[0mfft\u001b[0m \u001b[1;32mimport\u001b[0m \u001b[0mfft\u001b[0m\u001b[1;33m,\u001b[0m \u001b[0mrfftfreq\u001b[0m\u001b[1;33m\u001b[0m\u001b[1;33m\u001b[0m\u001b[0m\n\u001b[1;32m----> 2\u001b[1;33m \u001b[0mxf\u001b[0m \u001b[1;33m=\u001b[0m \u001b[0mrfftfreq\u001b[0m\u001b[1;33m(\u001b[0m\u001b[0mN\u001b[0m\u001b[1;33m,\u001b[0m \u001b[1;36m1\u001b[0m \u001b[1;33m/\u001b[0m \u001b[0mdf\u001b[0m\u001b[1;33m[\u001b[0m\u001b[1;34m\"hz\"\u001b[0m\u001b[1;33m]\u001b[0m\u001b[1;33m.\u001b[0m\u001b[0mvalues\u001b[0m\u001b[1;33m)\u001b[0m\u001b[1;33m\u001b[0m\u001b[1;33m\u001b[0m\u001b[0m\n\u001b[0m\u001b[0;32m      3\u001b[0m \u001b[0myf\u001b[0m \u001b[1;33m=\u001b[0m \u001b[0mfft\u001b[0m\u001b[1;33m(\u001b[0m\u001b[0mdf\u001b[0m\u001b[1;33m[\u001b[0m\u001b[1;34m\"a1_x\"\u001b[0m\u001b[1;33m]\u001b[0m\u001b[1;33m.\u001b[0m\u001b[0mvalues\u001b[0m\u001b[1;33m)\u001b[0m\u001b[1;33m\u001b[0m\u001b[1;33m\u001b[0m\u001b[0m\n\u001b[0;32m      4\u001b[0m \u001b[0mplt\u001b[0m\u001b[1;33m.\u001b[0m\u001b[0mplot\u001b[0m\u001b[1;33m(\u001b[0m\u001b[0mxf\u001b[0m\u001b[1;33m,\u001b[0m \u001b[0mnp\u001b[0m\u001b[1;33m.\u001b[0m\u001b[0mabs\u001b[0m\u001b[1;33m(\u001b[0m\u001b[0myf\u001b[0m\u001b[1;33m)\u001b[0m\u001b[1;33m)\u001b[0m\u001b[1;33m\u001b[0m\u001b[1;33m\u001b[0m\u001b[0m\n\u001b[0;32m      5\u001b[0m \u001b[0mplt\u001b[0m\u001b[1;33m.\u001b[0m\u001b[0mshow\u001b[0m\u001b[1;33m(\u001b[0m\u001b[1;33m)\u001b[0m\u001b[1;33m\u001b[0m\u001b[1;33m\u001b[0m\u001b[0m\n",
      "\u001b[1;31mNameError\u001b[0m: name 'N' is not defined"
     ]
    }
   ],
   "source": [
    "from scipy.fft import fft, rfftfreq\n",
    "xf = rfftfreq(N, 1 / df[\"hz\"].values)\n",
    "yf = fft(df[\"a1_x\"].values)\n",
    "plt.plot(xf, np.abs(yf))\n",
    "plt.show()"
   ]
  },
  {
   "cell_type": "code",
   "execution_count": 35,
   "id": "e48744d6",
   "metadata": {
    "scrolled": true
   },
   "outputs": [
    {
     "ename": "ValueError",
     "evalue": "operands could not be broadcast together with shapes (10265700,) (2566425,2) ",
     "output_type": "error",
     "traceback": [
      "\u001b[1;31m---------------------------------------------------------------------------\u001b[0m",
      "\u001b[1;31mValueError\u001b[0m                                Traceback (most recent call last)",
      "\u001b[1;32m<ipython-input-35-ba5ae6a58ee1>\u001b[0m in \u001b[0;36m<module>\u001b[1;34m\u001b[0m\n\u001b[0;32m      1\u001b[0m \u001b[0mN\u001b[0m \u001b[1;33m=\u001b[0m \u001b[0mint\u001b[0m\u001b[1;33m(\u001b[0m\u001b[0mdf\u001b[0m\u001b[1;33m[\u001b[0m\u001b[1;34m\"a1_y\"\u001b[0m\u001b[1;33m]\u001b[0m\u001b[1;33m.\u001b[0m\u001b[0msize\u001b[0m\u001b[1;33m)\u001b[0m\u001b[1;33m\u001b[0m\u001b[1;33m\u001b[0m\u001b[0m\n\u001b[1;32m----> 2\u001b[1;33m \u001b[0mxf\u001b[0m \u001b[1;33m=\u001b[0m \u001b[0mdf\u001b[0m\u001b[1;33m[\u001b[0m\u001b[1;34m\"hz\"\u001b[0m\u001b[1;33m]\u001b[0m\u001b[1;33m.\u001b[0m\u001b[0mvalues\u001b[0m\u001b[1;33m*\u001b[0m\u001b[0mnp\u001b[0m\u001b[1;33m.\u001b[0m\u001b[0marange\u001b[0m\u001b[1;33m(\u001b[0m\u001b[0mN\u001b[0m\u001b[1;33m//\u001b[0m\u001b[1;36m2\u001b[0m\u001b[1;33m)\u001b[0m\u001b[1;33m.\u001b[0m\u001b[0mreshape\u001b[0m\u001b[1;33m(\u001b[0m\u001b[1;33m-\u001b[0m\u001b[1;36m2\u001b[0m\u001b[1;33m,\u001b[0m\u001b[1;36m2\u001b[0m\u001b[1;33m)\u001b[0m\u001b[1;33m\u001b[0m\u001b[1;33m\u001b[0m\u001b[0m\n\u001b[0m\u001b[0;32m      3\u001b[0m \u001b[0myf\u001b[0m \u001b[1;33m=\u001b[0m \u001b[0mfft\u001b[0m\u001b[1;33m(\u001b[0m\u001b[0mdf\u001b[0m\u001b[1;33m[\u001b[0m\u001b[1;34m\"a1_y\"\u001b[0m\u001b[1;33m]\u001b[0m\u001b[1;33m.\u001b[0m\u001b[0mvalues\u001b[0m\u001b[1;33m)\u001b[0m\u001b[1;33m.\u001b[0m\u001b[0mreshape\u001b[0m\u001b[1;33m(\u001b[0m\u001b[1;33m-\u001b[0m\u001b[1;36m2\u001b[0m\u001b[1;33m,\u001b[0m\u001b[1;36m2\u001b[0m\u001b[1;33m)\u001b[0m\u001b[1;33m\u001b[0m\u001b[1;33m\u001b[0m\u001b[0m\n\u001b[0;32m      4\u001b[0m \u001b[0mplt\u001b[0m\u001b[1;33m.\u001b[0m\u001b[0mplot\u001b[0m\u001b[1;33m(\u001b[0m\u001b[0mxf\u001b[0m\u001b[1;33m,\u001b[0m \u001b[0mnp\u001b[0m\u001b[1;33m.\u001b[0m\u001b[0mabs\u001b[0m\u001b[1;33m(\u001b[0m\u001b[0myf\u001b[0m\u001b[1;33m)\u001b[0m\u001b[1;33m)\u001b[0m\u001b[1;33m\u001b[0m\u001b[1;33m\u001b[0m\u001b[0m\n\u001b[0;32m      5\u001b[0m \u001b[0mplt\u001b[0m\u001b[1;33m.\u001b[0m\u001b[0mshow\u001b[0m\u001b[1;33m(\u001b[0m\u001b[1;33m)\u001b[0m\u001b[1;33m\u001b[0m\u001b[1;33m\u001b[0m\u001b[0m\n",
      "\u001b[1;31mValueError\u001b[0m: operands could not be broadcast together with shapes (10265700,) (2566425,2) "
     ]
    }
   ],
   "source": [
    "N = int(df[\"a1_y\"].size)\n",
    "xf = df[\"hz\"].values*np.arange(N//2).reshape(-2,2)\n",
    "yf = fft(df[\"a1_y\"].values).reshape(-2,2)\n",
    "plt.plot(xf, np.abs(yf))\n",
    "plt.show()"
   ]
  },
  {
   "cell_type": "code",
   "execution_count": 36,
   "id": "f692dbdd",
   "metadata": {},
   "outputs": [
    {
     "data": {
      "image/png": "[encoded data removed]",
      "text/plain": [
       "<Figure size 432x288 with 1 Axes>"
      ]
     },
     "metadata": {
      "needs_background": "light"
     },
     "output_type": "display_data"
    }
   ],
   "source": [
    "xf = df[\"hz\"].values\n",
    "yf = fft(df[\"a1_x\"].values)\n",
    "plt.plot(xf, np.abs(yf))\n",
    "plt.show()"
   ]
  },
  {
   "cell_type": "code",
   "execution_count": 37,
   "id": "31474d44",
   "metadata": {},
   "outputs": [
    {
     "data": {
      "image/png": "[encoded data removed]",
      "text/plain": [
       "<Figure size 432x288 with 1 Axes>"
      ]
     },
     "metadata": {
      "needs_background": "light"
     },
     "output_type": "display_data"
    }
   ],
   "source": [
    "xf = df[\"hz\"].values\n",
    "yf = fft(df[\"a1_y\"].values)\n",
    "plt.plot(xf, np.abs(yf))\n",
    "plt.show()"
   ]
  },
  {
   "cell_type": "code",
   "execution_count": 38,
   "id": "41dc17f6",
   "metadata": {},
   "outputs": [
    {
     "data": {
      "image/png": "[encoded data removed]",
      "text/plain": [
       "<Figure size 432x288 with 1 Axes>"
      ]
     },
     "metadata": {
      "needs_background": "light"
     },
     "output_type": "display_data"
    }
   ],
   "source": [
    "xf = df[\"hz\"].values\n",
    "yf = fft(df[\"a1_z\"].values)\n",
    "plt.plot(xf, np.abs(yf))\n",
    "plt.show()"
   ]
  },
  {
   "cell_type": "code",
   "execution_count": 39,
   "id": "98d154e7",
   "metadata": {},
   "outputs": [
    {
     "data": {
      "image/png": "[encoded data removed]",
      "text/plain": [
       "<Figure size 432x288 with 1 Axes>"
      ]
     },
     "metadata": {
      "needs_background": "light"
     },
     "output_type": "display_data"
    }
   ],
   "source": [
    "xf = df[\"hz\"].values\n",
    "yf = fft(df[\"a2_x\"].values)\n",
    "plt.plot(xf, np.abs(yf))\n",
    "plt.show()"
   ]
  },
  {
   "cell_type": "code",
   "execution_count": 40,
   "id": "65b4372b",
   "metadata": {},
   "outputs": [
    {
     "data": {
      "image/png": "[encoded data removed]",
      "text/plain": [
       "<Figure size 432x288 with 1 Axes>"
      ]
     },
     "metadata": {
      "needs_background": "light"
     },
     "output_type": "display_data"
    }
   ],
   "source": [
    "xf = df[\"hz\"].values\n",
    "yf = fft(df[\"a2_y\"].values)\n",
    "plt.plot(xf, np.abs(yf))\n",
    "plt.show()"
   ]
  },
  {
   "cell_type": "code",
   "execution_count": 41,
   "id": "990f434b",
   "metadata": {},
   "outputs": [
    {
     "data": {
      "image/png": "[encoded data removed]",
      "text/plain": [
       "<Figure size 432x288 with 1 Axes>"
      ]
     },
     "metadata": {
      "needs_background": "light"
     },
     "output_type": "display_data"
    }
   ],
   "source": [
    "xf = df[\"hz\"].values\n",
    "yf = fft(df[\"a2_z\"].values)\n",
    "plt.plot(xf, np.abs(yf))\n",
    "plt.show()"
   ]
  },
  {
   "cell_type": "code",
   "execution_count": 42,
   "id": "24446b04",
   "metadata": {},
   "outputs": [
    {
     "data": {
      "image/png": "[encoded data removed]",
      "text/plain": [
       "<Figure size 432x288 with 1 Axes>"
      ]
     },
     "metadata": {
      "needs_background": "light"
     },
     "output_type": "display_data"
    }
   ],
   "source": [
    "xf = df[\"hz\"].values\n",
    "yf = df[\"a1_x\"].values\n",
    "plt.plot(xf, yf)\n",
    "plt.show()"
   ]
  },
  {
   "cell_type": "code",
   "execution_count": 43,
   "id": "d0c231e0",
   "metadata": {},
   "outputs": [
    {
     "data": {
      "text/plain": [
       "array([0.        , 0.61074919, 4.44444444, ..., 3.10237849, 3.04259635,\n",
       "       2.97914598])"
      ]
     },
     "execution_count": 43,
     "metadata": {},
     "output_type": "execute_result"
    }
   ],
   "source": [
    "df.hz.unique()"
   ]
  },
  {
   "cell_type": "code",
   "execution_count": 44,
   "id": "5df33fa9",
   "metadata": {},
   "outputs": [
    {
     "data": {
      "text/plain": [
       "array([  0.        ,  36.64495136, 266.66666667, ..., 186.14270941,\n",
       "       182.55578093, 178.74875869])"
      ]
     },
     "execution_count": 44,
     "metadata": {},
     "output_type": "execute_result"
    }
   ],
   "source": [
    "df.rpm.unique()"
   ]
  },
  {
   "cell_type": "code",
   "execution_count": 45,
   "id": "a3fa39af",
   "metadata": {},
   "outputs": [
    {
     "data": {
      "image/png": "[encoded data removed]",
      "text/plain": [
       "<Figure size 432x288 with 1 Axes>"
      ]
     },
     "metadata": {
      "needs_background": "light"
     },
     "output_type": "display_data"
    }
   ],
   "source": [
    "xf = df[\"timestamp\"].values\n",
    "yf = fft(df[\"a1_x\"].values)\n",
    "plt.plot(xf, np.abs(yf))\n",
    "plt.show()"
   ]
  },
  {
   "cell_type": "code",
   "execution_count": 46,
   "id": "75f9802a",
   "metadata": {},
   "outputs": [
    {
     "name": "stderr",
     "output_type": "stream",
     "text": [
      "C:\\Users\\leono\\AppData\\Roaming\\Python\\Python38\\site-packages\\matplotlib\\cbook\\__init__.py:1333: ComplexWarning: Casting complex values to real discards the imaginary part\n",
      "  return np.asarray(x, float)\n"
     ]
    },
    {
     "data": {
      "image/png": "[encoded data removed]",
      "text/plain": [
       "<Figure size 432x288 with 1 Axes>"
      ]
     },
     "metadata": {
      "needs_background": "light"
     },
     "output_type": "display_data"
    }
   ],
   "source": [
    "xf = df[\"timestamp\"].values\n",
    "yf = fft(df[\"a1_y\"].values)\n",
    "plt.plot(xf, yf)\n",
    "plt.show()"
   ]
  },
  {
   "cell_type": "code",
   "execution_count": 47,
   "id": "d685ef95",
   "metadata": {},
   "outputs": [
    {
     "name": "stderr",
     "output_type": "stream",
     "text": [
      "C:\\Users\\leono\\AppData\\Roaming\\Python\\Python38\\site-packages\\matplotlib\\cbook\\__init__.py:1333: ComplexWarning: Casting complex values to real discards the imaginary part\n",
      "  return np.asarray(x, float)\n"
     ]
    },
    {
     "data": {
      "image/png": "[encoded data removed]",
      "text/plain": [
       "<Figure size 432x288 with 1 Axes>"
      ]
     },
     "metadata": {
      "needs_background": "light"
     },
     "output_type": "display_data"
    }
   ],
   "source": [
    "xf = df[\"timestamp\"].values\n",
    "yf = fft(df[\"a1_z\"].values)\n",
    "plt.plot(xf, yf)\n",
    "plt.show()"
   ]
  },
  {
   "cell_type": "code",
   "execution_count": 48,
   "id": "994bb830",
   "metadata": {},
   "outputs": [
    {
     "name": "stderr",
     "output_type": "stream",
     "text": [
      "C:\\Users\\leono\\AppData\\Roaming\\Python\\Python38\\site-packages\\matplotlib\\cbook\\__init__.py:1333: ComplexWarning: Casting complex values to real discards the imaginary part\n",
      "  return np.asarray(x, float)\n"
     ]
    },
    {
     "data": {
      "image/png": "[encoded data removed]",
      "text/plain": [
       "<Figure size 432x288 with 1 Axes>"
      ]
     },
     "metadata": {
      "needs_background": "light"
     },
     "output_type": "display_data"
    }
   ],
   "source": [
    "xf = df[\"timestamp\"].values\n",
    "yf = fft(df[\"a2_x\"].values)\n",
    "plt.plot(xf, yf)\n",
    "plt.show()"
   ]
  },
  {
   "cell_type": "code",
   "execution_count": 49,
   "id": "5621ea09",
   "metadata": {},
   "outputs": [
    {
     "name": "stderr",
     "output_type": "stream",
     "text": [
      "C:\\Users\\leono\\AppData\\Roaming\\Python\\Python38\\site-packages\\matplotlib\\cbook\\__init__.py:1333: ComplexWarning: Casting complex values to real discards the imaginary part\n",
      "  return np.asarray(x, float)\n"
     ]
    },
    {
     "data": {
      "image/png": "[encoded data removed]",
      "text/plain": [
       "<Figure size 432x288 with 1 Axes>"
      ]
     },
     "metadata": {
      "needs_background": "light"
     },
     "output_type": "display_data"
    }
   ],
   "source": [
    "xf = df[\"timestamp\"].values\n",
    "yf = fft(df[\"a2_y\"].values)\n",
    "plt.plot(xf, yf)\n",
    "plt.show()"
   ]
  },
  {
   "cell_type": "code",
   "execution_count": 50,
   "id": "cb36f857",
   "metadata": {},
   "outputs": [
    {
     "name": "stderr",
     "output_type": "stream",
     "text": [
      "C:\\Users\\leono\\AppData\\Roaming\\Python\\Python38\\site-packages\\matplotlib\\cbook\\__init__.py:1333: ComplexWarning: Casting complex values to real discards the imaginary part\n",
      "  return np.asarray(x, float)\n"
     ]
    },
    {
     "data": {
      "image/png": "[encoded data removed]",
      "text/plain": [
       "<Figure size 432x288 with 1 Axes>"
      ]
     },
     "metadata": {
      "needs_background": "light"
     },
     "output_type": "display_data"
    }
   ],
   "source": [
    "xf = df[\"timestamp\"].values\n",
    "yf = fft(df[\"a2_z\"].values)\n",
    "plt.plot(xf, yf)\n",
    "plt.show()"
   ]
  },
  {
   "cell_type": "code",
   "execution_count": 51,
   "id": "66c92091",
   "metadata": {},
   "outputs": [],
   "source": [
    "#new_df = fft(df)"
   ]
  },
  {
   "cell_type": "code",
   "execution_count": 52,
   "id": "6e6d3d32",
   "metadata": {},
   "outputs": [
    {
     "ename": "AttributeError",
     "evalue": "'numpy.ndarray' object has no attribute 'hz'",
     "output_type": "error",
     "traceback": [
      "\u001b[1;31m---------------------------------------------------------------------------\u001b[0m",
      "\u001b[1;31mAttributeError\u001b[0m                            Traceback (most recent call last)",
      "\u001b[1;32m<ipython-input-52-c71fabb452c9>\u001b[0m in \u001b[0;36m<module>\u001b[1;34m\u001b[0m\n\u001b[1;32m----> 1\u001b[1;33m \u001b[0mxf\u001b[0m \u001b[1;33m=\u001b[0m \u001b[0mnew_df\u001b[0m\u001b[1;33m.\u001b[0m\u001b[0mhz\u001b[0m\u001b[1;33m\u001b[0m\u001b[1;33m\u001b[0m\u001b[0m\n\u001b[0m\u001b[0;32m      2\u001b[0m \u001b[0myf\u001b[0m \u001b[1;33m=\u001b[0m \u001b[0mnew_df\u001b[0m\u001b[1;33m.\u001b[0m\u001b[0ma2_y\u001b[0m\u001b[1;33m\u001b[0m\u001b[1;33m\u001b[0m\u001b[0m\n\u001b[0;32m      3\u001b[0m \u001b[0mplt\u001b[0m\u001b[1;33m.\u001b[0m\u001b[0mplot\u001b[0m\u001b[1;33m(\u001b[0m\u001b[0mxf\u001b[0m\u001b[1;33m,\u001b[0m \u001b[0mnp\u001b[0m\u001b[1;33m.\u001b[0m\u001b[0mabs\u001b[0m\u001b[1;33m(\u001b[0m\u001b[0myf\u001b[0m\u001b[1;33m)\u001b[0m\u001b[1;33m)\u001b[0m\u001b[1;33m\u001b[0m\u001b[1;33m\u001b[0m\u001b[0m\n\u001b[0;32m      4\u001b[0m \u001b[0mplt\u001b[0m\u001b[1;33m.\u001b[0m\u001b[0mshow\u001b[0m\u001b[1;33m(\u001b[0m\u001b[1;33m)\u001b[0m\u001b[1;33m\u001b[0m\u001b[1;33m\u001b[0m\u001b[0m\n",
      "\u001b[1;31mAttributeError\u001b[0m: 'numpy.ndarray' object has no attribute 'hz'"
     ]
    }
   ],
   "source": [
    "xf = new_df.hz\n",
    "yf = new_df.a2_y\n",
    "plt.plot(xf, np.abs(yf))\n",
    "plt.show()"
   ]
  },
  {
   "cell_type": "code",
   "execution_count": null,
   "id": "1e1d5e06",
   "metadata": {},
   "outputs": [],
   "source": [
    "# Number of samples in normalized_tone\n",
    "N = df[\"timestamp\"].values * df[\"hz\"].values\n",
    "\n",
    "yf = fft(df[\"a2_z\"].values)\n",
    "xf = fftfreq(N, 1 / df[\"hz\"].values)\n",
    "\n",
    "plt.plot(xf, np.abs(yf))\n",
    "plt.show()"
   ]
  },
  {
   "cell_type": "code",
   "execution_count": null,
   "id": "af2774bf",
   "metadata": {},
   "outputs": [],
   "source": [
    "#FEATURE ENGENEERING"
   ]
  },
  {
   "cell_type": "code",
   "execution_count": 53,
   "id": "fad3f088",
   "metadata": {},
   "outputs": [],
   "source": [
    "df_1 = df[df['bearing_id']==1]"
   ]
  },
  {
   "cell_type": "code",
   "execution_count": 55,
   "id": "8fa657f1",
   "metadata": {},
   "outputs": [],
   "source": [
    "df_110 = df[df['bearing_id']==110]"
   ]
  },
  {
   "cell_type": "code",
   "execution_count": 79,
   "id": "c3b44f33",
   "metadata": {
    "scrolled": true
   },
   "outputs": [
    {
     "name": "stderr",
     "output_type": "stream",
     "text": [
      "C:\\Users\\leono\\AppData\\Roaming\\Python\\Python38\\site-packages\\matplotlib\\cbook\\__init__.py:1333: ComplexWarning: Casting complex values to real discards the imaginary part\n",
      "  return np.asarray(x, float)\n"
     ]
    },
    {
     "data": {
      "image/png": "[encoded data removed]",
      "text/plain": [
       "<Figure size 432x288 with 1 Axes>"
      ]
     },
     "metadata": {
      "needs_background": "light"
     },
     "output_type": "display_data"
    }
   ],
   "source": [
    "xf = df_1[\"timestamp\"].values\n",
    "yf = fft(df_1[\"a2_x\"].values)\n",
    "plt.plot(xf, yf)\n",
    "plt.show()"
   ]
  },
  {
   "cell_type": "code",
   "execution_count": 80,
   "id": "6328ad86",
   "metadata": {},
   "outputs": [
    {
     "name": "stderr",
     "output_type": "stream",
     "text": [
      "C:\\Users\\leono\\AppData\\Roaming\\Python\\Python38\\site-packages\\matplotlib\\cbook\\__init__.py:1333: ComplexWarning: Casting complex values to real discards the imaginary part\n",
      "  return np.asarray(x, float)\n"
     ]
    },
    {
     "data": {
      "image/png": "[encoded data removed]",
      "text/plain": [
       "<Figure size 432x288 with 1 Axes>"
      ]
     },
     "metadata": {
      "needs_background": "light"
     },
     "output_type": "display_data"
    }
   ],
   "source": [
    "xf = df_110[\"timestamp\"].values\n",
    "yf = fft(df_110[\"a2_x\"].values)\n",
    "plt.plot(xf, yf)\n",
    "plt.show()"
   ]
  },
  {
   "cell_type": "code",
   "execution_count": 81,
   "id": "1ff00d5c",
   "metadata": {},
   "outputs": [
    {
     "name": "stderr",
     "output_type": "stream",
     "text": [
      "C:\\Users\\leono\\AppData\\Roaming\\Python\\Python38\\site-packages\\matplotlib\\cbook\\__init__.py:1333: ComplexWarning: Casting complex values to real discards the imaginary part\n",
      "  return np.asarray(x, float)\n"
     ]
    },
    {
     "data": {
      "image/png": "[encoded data removed]",
      "text/plain": [
       "<Figure size 432x288 with 1 Axes>"
      ]
     },
     "metadata": {
      "needs_background": "light"
     },
     "output_type": "display_data"
    }
   ],
   "source": [
    "xf = df_1[\"timestamp\"].values\n",
    "yf = fft(df_1[\"a2_y\"].values)\n",
    "plt.plot(xf, yf)\n",
    "plt.show()"
   ]
  },
  {
   "cell_type": "code",
   "execution_count": 85,
   "id": "d80539c8",
   "metadata": {},
   "outputs": [
    {
     "name": "stderr",
     "output_type": "stream",
     "text": [
      "C:\\Users\\leono\\AppData\\Roaming\\Python\\Python38\\site-packages\\matplotlib\\cbook\\__init__.py:1333: ComplexWarning: Casting complex values to real discards the imaginary part\n",
      "  return np.asarray(x, float)\n"
     ]
    },
    {
     "data": {
      "image/png": "[encoded data removed]",
      "text/plain": [
       "<Figure size 432x288 with 1 Axes>"
      ]
     },
     "metadata": {
      "needs_background": "light"
     },
     "output_type": "display_data"
    }
   ],
   "source": [
    "xf = df_110[\"timestamp\"].values\n",
    "yf = fft(df_110[\"a2_y\"].values)\n",
    "plt.plot(xf, yf)\n",
    "plt.show()"
   ]
  },
  {
   "cell_type": "code",
   "execution_count": 86,
   "id": "d98830d1",
   "metadata": {},
   "outputs": [
    {
     "name": "stderr",
     "output_type": "stream",
     "text": [
      "C:\\Users\\leono\\AppData\\Roaming\\Python\\Python38\\site-packages\\matplotlib\\cbook\\__init__.py:1333: ComplexWarning: Casting complex values to real discards the imaginary part\n",
      "  return np.asarray(x, float)\n"
     ]
    },
    {
     "data": {
      "image/png": "[encoded data removed]",
      "text/plain": [
       "<Figure size 432x288 with 1 Axes>"
      ]
     },
     "metadata": {
      "needs_background": "light"
     },
     "output_type": "display_data"
    }
   ],
   "source": [
    "xf = df_1[\"timestamp\"].values\n",
    "yf = fft(df_1[\"a2_z\"].values)\n",
    "plt.plot(xf, yf)\n",
    "plt.show()"
   ]
  },
  {
   "cell_type": "code",
   "execution_count": 93,
   "id": "b6a506c3",
   "metadata": {},
   "outputs": [
    {
     "name": "stderr",
     "output_type": "stream",
     "text": [
      "C:\\Users\\leono\\AppData\\Roaming\\Python\\Python38\\site-packages\\matplotlib\\cbook\\__init__.py:1333: ComplexWarning: Casting complex values to real discards the imaginary part\n",
      "  return np.asarray(x, float)\n"
     ]
    },
    {
     "data": {
      "image/png": "[encoded data removed]",
      "text/plain": [
       "<Figure size 432x288 with 1 Axes>"
      ]
     },
     "metadata": {
      "needs_background": "light"
     },
     "output_type": "display_data"
    }
   ],
   "source": [
    "xf = df_110[\"timestamp\"].values\n",
    "yf = fft(df_110[\"a2_z\"].values)\n",
    "plt.plot(xf, yf)\n",
    "plt.show()"
   ]
  },
  {
   "cell_type": "code",
   "execution_count": 94,
   "id": "4be05892",
   "metadata": {},
   "outputs": [
    {
     "name": "stderr",
     "output_type": "stream",
     "text": [
      "C:\\Users\\leono\\AppData\\Roaming\\Python\\Python38\\site-packages\\matplotlib\\cbook\\__init__.py:1333: ComplexWarning: Casting complex values to real discards the imaginary part\n",
      "  return np.asarray(x, float)\n"
     ]
    },
    {
     "data": {
      "image/png": "[encoded data removed]",
      "text/plain": [
       "<Figure size 432x288 with 1 Axes>"
      ]
     },
     "metadata": {
      "needs_background": "light"
     },
     "output_type": "display_data"
    }
   ],
   "source": [
    "df_105 = df[df['bearing_id']==105]\n",
    "xf = df_105[\"timestamp\"].values\n",
    "yf = fft(df_105[\"a2_x\"].values)\n",
    "plt.plot(xf, yf)\n",
    "plt.show()"
   ]
  },
  {
   "cell_type": "code",
   "execution_count": 95,
   "id": "bc88934c",
   "metadata": {},
   "outputs": [
    {
     "name": "stderr",
     "output_type": "stream",
     "text": [
      "C:\\Users\\leono\\AppData\\Roaming\\Python\\Python38\\site-packages\\matplotlib\\cbook\\__init__.py:1333: ComplexWarning: Casting complex values to real discards the imaginary part\n",
      "  return np.asarray(x, float)\n"
     ]
    },
    {
     "data": {
      "image/png": "[encoded data removed]",
      "text/plain": [
       "<Figure size 432x288 with 1 Axes>"
      ]
     },
     "metadata": {
      "needs_background": "light"
     },
     "output_type": "display_data"
    }
   ],
   "source": [
    "df_105 = df[df['bearing_id']==105]\n",
    "xf = df_105[\"timestamp\"].values\n",
    "yf = fft(df_105[\"a2_y\"].values)\n",
    "plt.plot(xf, yf)\n",
    "plt.show()"
   ]
  },
  {
   "cell_type": "code",
   "execution_count": 103,
   "id": "46049f42",
   "metadata": {},
   "outputs": [
    {
     "name": "stderr",
     "output_type": "stream",
     "text": [
      "C:\\Users\\leono\\AppData\\Roaming\\Python\\Python38\\site-packages\\matplotlib\\cbook\\__init__.py:1333: ComplexWarning: Casting complex values to real discards the imaginary part\n",
      "  return np.asarray(x, float)\n"
     ]
    },
    {
     "data": {
      "image/png": "[encoded data removed]",
      "text/plain": [
       "<Figure size 432x288 with 1 Axes>"
      ]
     },
     "metadata": {
      "needs_background": "light"
     },
     "output_type": "display_data"
    }
   ],
   "source": [
    "df_105 = df[df['bearing_id']==105]\n",
    "xf = df_105[\"timestamp\"].values\n",
    "yf = fft(df_105[\"a2_z\"].values)\n",
    "plt.plot(xf, yf)\n",
    "plt.show()"
   ]
  },
  {
   "cell_type": "code",
   "execution_count": 97,
   "id": "192bda5c",
   "metadata": {},
   "outputs": [
    {
     "name": "stderr",
     "output_type": "stream",
     "text": [
      "C:\\Users\\leono\\AppData\\Roaming\\Python\\Python38\\site-packages\\matplotlib\\cbook\\__init__.py:1333: ComplexWarning: Casting complex values to real discards the imaginary part\n",
      "  return np.asarray(x, float)\n"
     ]
    },
    {
     "data": {
      "image/png": "[encoded data removed]",
      "text/plain": [
       "<Figure size 432x288 with 1 Axes>"
      ]
     },
     "metadata": {
      "needs_background": "light"
     },
     "output_type": "display_data"
    }
   ],
   "source": [
    "df_10 = df[df['bearing_id']==10]\n",
    "xf = df_10[\"timestamp\"].values\n",
    "yf = fft(df_10[\"a2_x\"].values)\n",
    "plt.plot(xf, yf)\n",
    "plt.show()"
   ]
  },
  {
   "cell_type": "code",
   "execution_count": 104,
   "id": "5d1db28e",
   "metadata": {},
   "outputs": [
    {
     "name": "stderr",
     "output_type": "stream",
     "text": [
      "C:\\Users\\leono\\AppData\\Roaming\\Python\\Python38\\site-packages\\matplotlib\\cbook\\__init__.py:1333: ComplexWarning: Casting complex values to real discards the imaginary part\n",
      "  return np.asarray(x, float)\n"
     ]
    },
    {
     "data": {
      "image/png": "[encoded data removed]",
      "text/plain": [
       "<Figure size 432x288 with 1 Axes>"
      ]
     },
     "metadata": {
      "needs_background": "light"
     },
     "output_type": "display_data"
    }
   ],
   "source": [
    "df_10 = df[df['bearing_id']==10]\n",
    "xf = df_10[\"timestamp\"].values\n",
    "yf = fft(df_10[\"a2_y\"].values)\n",
    "plt.plot(xf, yf)\n",
    "plt.show()"
   ]
  },
  {
   "cell_type": "code",
   "execution_count": 105,
   "id": "dc97e55d",
   "metadata": {},
   "outputs": [
    {
     "name": "stderr",
     "output_type": "stream",
     "text": [
      "C:\\Users\\leono\\AppData\\Roaming\\Python\\Python38\\site-packages\\matplotlib\\cbook\\__init__.py:1333: ComplexWarning: Casting complex values to real discards the imaginary part\n",
      "  return np.asarray(x, float)\n"
     ]
    },
    {
     "data": {
      "image/png": "[encoded data removed]",
      "text/plain": [
       "<Figure size 432x288 with 1 Axes>"
      ]
     },
     "metadata": {
      "needs_background": "light"
     },
     "output_type": "display_data"
    }
   ],
   "source": [
    "df_10 = df[df['bearing_id']==10]\n",
    "xf = df_10[\"timestamp\"].values\n",
    "yf = fft(df_10[\"a2_z\"].values)\n",
    "plt.plot(xf, yf)\n",
    "plt.show()"
   ]
  },
  {
   "cell_type": "code",
   "execution_count": 116,
   "id": "e331dc04",
   "metadata": {
    "scrolled": true
   },
   "outputs": [
    {
     "name": "stderr",
     "output_type": "stream",
     "text": [
      "C:\\Users\\leono\\AppData\\Roaming\\Python\\Python38\\site-packages\\matplotlib\\cbook\\__init__.py:1333: ComplexWarning: Casting complex values to real discards the imaginary part\n",
      "  return np.asarray(x, float)\n"
     ]
    },
    {
     "data": {
      "image/png": "[encoded data removed]",
      "text/plain": [
       "<Figure size 432x288 with 1 Axes>"
      ]
     },
     "metadata": {
      "needs_background": "light"
     },
     "output_type": "display_data"
    }
   ],
   "source": [
    "df_90 = df[df['bearing_id']==90]\n",
    "xf = df_90[\"timestamp\"].values\n",
    "yf = fft(df_90[\"a2_x\"].values)\n",
    "plt.plot(xf, yf)\n",
    "plt.show()"
   ]
  },
  {
   "cell_type": "code",
   "execution_count": 114,
   "id": "051f97ea",
   "metadata": {},
   "outputs": [
    {
     "data": {
      "image/png": "[encoded data removed]",
      "text/plain": [
       "<Figure size 432x288 with 1 Axes>"
      ]
     },
     "metadata": {
      "needs_background": "light"
     },
     "output_type": "display_data"
    }
   ],
   "source": [
    "df_90 = df[df['bearing_id']==90]\n",
    "xf = df_90[\"timestamp\"].values\n",
    "yf = fft(df_90[\"rpm\"].values)\n",
    "plt.plot(xf, np.abs(yf))\n",
    "plt.show()"
   ]
  },
  {
   "cell_type": "code",
   "execution_count": 117,
   "id": "34deade2",
   "metadata": {},
   "outputs": [
    {
     "data": {
      "image/png": "[encoded data removed]",
      "text/plain": [
       "<Figure size 432x288 with 1 Axes>"
      ]
     },
     "metadata": {
      "needs_background": "light"
     },
     "output_type": "display_data"
    }
   ],
   "source": [
    "df_105 = df[df['bearing_id']==105]\n",
    "xf = df_105[\"timestamp\"].values\n",
    "yf = fft(df_105[\"hz\"].values)\n",
    "plt.plot(xf, np.abs(yf))\n",
    "plt.show()"
   ]
  },
  {
   "cell_type": "code",
   "execution_count": 127,
   "id": "ec44b6bc",
   "metadata": {},
   "outputs": [],
   "source": [
    "df_time = df[(df['timestamp'] > 11) & (df['timestamp'] < 18)]"
   ]
  },
  {
   "cell_type": "code",
   "execution_count": 128,
   "id": "aa063c0a",
   "metadata": {},
   "outputs": [
    {
     "data": {
      "text/html": [
       "<div>\n",
       "<style scoped>\n",
       "    .dataframe tbody tr th:only-of-type {\n",
       "        vertical-align: middle;\n",
       "    }\n",
       "\n",
       "    .dataframe tbody tr th {\n",
       "        vertical-align: top;\n",
       "    }\n",
       "\n",
       "    .dataframe thead th {\n",
       "        text-align: right;\n",
       "    }\n",
       "</style>\n",
       "<table border=\"1\" class=\"dataframe\">\n",
       "  <thead>\n",
       "    <tr style=\"text-align: right;\">\n",
       "      <th></th>\n",
       "      <th>experiment_id</th>\n",
       "      <th>bearing_id</th>\n",
       "      <th>timestamp</th>\n",
       "      <th>a1_x</th>\n",
       "      <th>a1_y</th>\n",
       "      <th>a1_z</th>\n",
       "      <th>a2_x</th>\n",
       "      <th>a2_y</th>\n",
       "      <th>a2_z</th>\n",
       "      <th>rpm</th>\n",
       "      <th>hz</th>\n",
       "      <th>w</th>\n",
       "      <th>status</th>\n",
       "    </tr>\n",
       "  </thead>\n",
       "  <tbody>\n",
       "    <tr>\n",
       "      <th>33001</th>\n",
       "      <td>1</td>\n",
       "      <td>1</td>\n",
       "      <td>11.000333</td>\n",
       "      <td>-0.079124</td>\n",
       "      <td>-0.512735</td>\n",
       "      <td>-2.991232</td>\n",
       "      <td>3.967760</td>\n",
       "      <td>0.578898</td>\n",
       "      <td>-4.727287</td>\n",
       "      <td>1487.603306</td>\n",
       "      <td>24.793388</td>\n",
       "      <td>0.637861</td>\n",
       "      <td>0</td>\n",
       "    </tr>\n",
       "    <tr>\n",
       "      <th>33002</th>\n",
       "      <td>1</td>\n",
       "      <td>1</td>\n",
       "      <td>11.000667</td>\n",
       "      <td>-0.656302</td>\n",
       "      <td>-0.323466</td>\n",
       "      <td>-2.703137</td>\n",
       "      <td>3.212525</td>\n",
       "      <td>0.675009</td>\n",
       "      <td>-4.129411</td>\n",
       "      <td>1487.603306</td>\n",
       "      <td>24.793388</td>\n",
       "      <td>0.802710</td>\n",
       "      <td>0</td>\n",
       "    </tr>\n",
       "    <tr>\n",
       "      <th>33003</th>\n",
       "      <td>1</td>\n",
       "      <td>1</td>\n",
       "      <td>11.001000</td>\n",
       "      <td>-2.099246</td>\n",
       "      <td>-0.418101</td>\n",
       "      <td>-2.799169</td>\n",
       "      <td>3.023717</td>\n",
       "      <td>0.867233</td>\n",
       "      <td>-4.428349</td>\n",
       "      <td>1487.603306</td>\n",
       "      <td>24.793388</td>\n",
       "      <td>0.868568</td>\n",
       "      <td>0</td>\n",
       "    </tr>\n",
       "    <tr>\n",
       "      <th>33004</th>\n",
       "      <td>1</td>\n",
       "      <td>1</td>\n",
       "      <td>11.001333</td>\n",
       "      <td>-3.253602</td>\n",
       "      <td>-0.228832</td>\n",
       "      <td>-3.375360</td>\n",
       "      <td>1.796461</td>\n",
       "      <td>0.771121</td>\n",
       "      <td>-3.730828</td>\n",
       "      <td>1487.603306</td>\n",
       "      <td>24.793388</td>\n",
       "      <td>0.457196</td>\n",
       "      <td>0</td>\n",
       "    </tr>\n",
       "    <tr>\n",
       "      <th>33005</th>\n",
       "      <td>1</td>\n",
       "      <td>1</td>\n",
       "      <td>11.001667</td>\n",
       "      <td>-4.023172</td>\n",
       "      <td>-0.702004</td>\n",
       "      <td>-2.895201</td>\n",
       "      <td>1.607652</td>\n",
       "      <td>1.443905</td>\n",
       "      <td>-3.730828</td>\n",
       "      <td>1487.603306</td>\n",
       "      <td>24.793388</td>\n",
       "      <td>0.471930</td>\n",
       "      <td>0</td>\n",
       "    </tr>\n",
       "    <tr>\n",
       "      <th>...</th>\n",
       "      <td>...</td>\n",
       "      <td>...</td>\n",
       "      <td>...</td>\n",
       "      <td>...</td>\n",
       "      <td>...</td>\n",
       "      <td>...</td>\n",
       "      <td>...</td>\n",
       "      <td>...</td>\n",
       "      <td>...</td>\n",
       "      <td>...</td>\n",
       "      <td>...</td>\n",
       "      <td>...</td>\n",
       "      <td>...</td>\n",
       "    </tr>\n",
       "    <tr>\n",
       "      <th>10223395</th>\n",
       "      <td>112</td>\n",
       "      <td>112</td>\n",
       "      <td>17.998333</td>\n",
       "      <td>-5.081331</td>\n",
       "      <td>0.244341</td>\n",
       "      <td>1.906395</td>\n",
       "      <td>1.513248</td>\n",
       "      <td>-2.688906</td>\n",
       "      <td>-0.841097</td>\n",
       "      <td>1487.603306</td>\n",
       "      <td>24.793388</td>\n",
       "      <td>0.615048</td>\n",
       "      <td>1</td>\n",
       "    </tr>\n",
       "    <tr>\n",
       "      <th>10223396</th>\n",
       "      <td>112</td>\n",
       "      <td>112</td>\n",
       "      <td>17.998667</td>\n",
       "      <td>-1.233480</td>\n",
       "      <td>1.285320</td>\n",
       "      <td>1.138140</td>\n",
       "      <td>-0.469243</td>\n",
       "      <td>-2.304459</td>\n",
       "      <td>-0.043930</td>\n",
       "      <td>1487.603306</td>\n",
       "      <td>24.793388</td>\n",
       "      <td>0.314574</td>\n",
       "      <td>1</td>\n",
       "    </tr>\n",
       "    <tr>\n",
       "      <th>10223397</th>\n",
       "      <td>112</td>\n",
       "      <td>112</td>\n",
       "      <td>17.999000</td>\n",
       "      <td>-2.387835</td>\n",
       "      <td>1.474589</td>\n",
       "      <td>0.465916</td>\n",
       "      <td>-1.318881</td>\n",
       "      <td>-2.496683</td>\n",
       "      <td>0.055715</td>\n",
       "      <td>1487.603306</td>\n",
       "      <td>24.793388</td>\n",
       "      <td>0.364942</td>\n",
       "      <td>1</td>\n",
       "    </tr>\n",
       "    <tr>\n",
       "      <th>10223398</th>\n",
       "      <td>112</td>\n",
       "      <td>112</td>\n",
       "      <td>17.999333</td>\n",
       "      <td>-2.195443</td>\n",
       "      <td>1.096051</td>\n",
       "      <td>0.946076</td>\n",
       "      <td>-1.035668</td>\n",
       "      <td>-3.361690</td>\n",
       "      <td>0.255007</td>\n",
       "      <td>1487.603306</td>\n",
       "      <td>24.793388</td>\n",
       "      <td>0.382562</td>\n",
       "      <td>1</td>\n",
       "    </tr>\n",
       "    <tr>\n",
       "      <th>10223399</th>\n",
       "      <td>112</td>\n",
       "      <td>112</td>\n",
       "      <td>17.999667</td>\n",
       "      <td>0.594250</td>\n",
       "      <td>0.149706</td>\n",
       "      <td>0.369884</td>\n",
       "      <td>-1.602094</td>\n",
       "      <td>-3.938361</td>\n",
       "      <td>2.247925</td>\n",
       "      <td>1487.603306</td>\n",
       "      <td>24.793388</td>\n",
       "      <td>0.452337</td>\n",
       "      <td>1</td>\n",
       "    </tr>\n",
       "  </tbody>\n",
       "</table>\n",
       "<p>2351888 rows × 13 columns</p>\n",
       "</div>"
      ],
      "text/plain": [
       "          experiment_id  bearing_id  timestamp      a1_x      a1_y      a1_z  \\\n",
       "33001                 1           1  11.000333 -0.079124 -0.512735 -2.991232   \n",
       "33002                 1           1  11.000667 -0.656302 -0.323466 -2.703137   \n",
       "33003                 1           1  11.001000 -2.099246 -0.418101 -2.799169   \n",
       "33004                 1           1  11.001333 -3.253602 -0.228832 -3.375360   \n",
       "33005                 1           1  11.001667 -4.023172 -0.702004 -2.895201   \n",
       "...                 ...         ...        ...       ...       ...       ...   \n",
       "10223395            112         112  17.998333 -5.081331  0.244341  1.906395   \n",
       "10223396            112         112  17.998667 -1.233480  1.285320  1.138140   \n",
       "10223397            112         112  17.999000 -2.387835  1.474589  0.465916   \n",
       "10223398            112         112  17.999333 -2.195443  1.096051  0.946076   \n",
       "10223399            112         112  17.999667  0.594250  0.149706  0.369884   \n",
       "\n",
       "              a2_x      a2_y      a2_z          rpm         hz         w  \\\n",
       "33001     3.967760  0.578898 -4.727287  1487.603306  24.793388  0.637861   \n",
       "33002     3.212525  0.675009 -4.129411  1487.603306  24.793388  0.802710   \n",
       "33003     3.023717  0.867233 -4.428349  1487.603306  24.793388  0.868568   \n",
       "33004     1.796461  0.771121 -3.730828  1487.603306  24.793388  0.457196   \n",
       "33005     1.607652  1.443905 -3.730828  1487.603306  24.793388  0.471930   \n",
       "...            ...       ...       ...          ...        ...       ...   \n",
       "10223395  1.513248 -2.688906 -0.841097  1487.603306  24.793388  0.615048   \n",
       "10223396 -0.469243 -2.304459 -0.043930  1487.603306  24.793388  0.314574   \n",
       "10223397 -1.318881 -2.496683  0.055715  1487.603306  24.793388  0.364942   \n",
       "10223398 -1.035668 -3.361690  0.255007  1487.603306  24.793388  0.382562   \n",
       "10223399 -1.602094 -3.938361  2.247925  1487.603306  24.793388  0.452337   \n",
       "\n",
       "          status  \n",
       "33001          0  \n",
       "33002          0  \n",
       "33003          0  \n",
       "33004          0  \n",
       "33005          0  \n",
       "...          ...  \n",
       "10223395       1  \n",
       "10223396       1  \n",
       "10223397       1  \n",
       "10223398       1  \n",
       "10223399       1  \n",
       "\n",
       "[2351888 rows x 13 columns]"
      ]
     },
     "execution_count": 128,
     "metadata": {},
     "output_type": "execute_result"
    }
   ],
   "source": [
    "df_time"
   ]
  },
  {
   "cell_type": "code",
   "execution_count": 148,
   "id": "50b8da35",
   "metadata": {},
   "outputs": [
    {
     "data": {
      "image/png": "[encoded data removed]",
      "text/plain": [
       "<Figure size 432x288 with 1 Axes>"
      ]
     },
     "metadata": {
      "needs_background": "light"
     },
     "output_type": "display_data"
    }
   ],
   "source": [
    "df_time_b_90 = df_time[df_time['bearing_id']==90]\n",
    "xf = df_time_b_90[\"timestamp\"].values\n",
    "yf = fft(df_time_b_90[\"a2_x\"].values)\n",
    "plt.ylim([0,2000])\n",
    "plt.plot(xf, np.abs(yf))\n",
    "plt.show()"
   ]
  },
  {
   "cell_type": "code",
   "execution_count": 146,
   "id": "3d4c1786",
   "metadata": {},
   "outputs": [
    {
     "data": {
      "image/png": "[encoded data removed]",
      "text/plain": [
       "<Figure size 432x288 with 1 Axes>"
      ]
     },
     "metadata": {
      "needs_background": "light"
     },
     "output_type": "display_data"
    }
   ],
   "source": [
    "df_time_b_108 = df_time[df_time['bearing_id']==108]\n",
    "xf = df_time_b_108[\"timestamp\"].values\n",
    "yf = fft(df_time_b_108[\"a2_x\"].values)\n",
    "plt.ylim([0,2000])\n",
    "plt.plot(xf, np.abs(yf))\n",
    "plt.show()"
   ]
  },
  {
   "cell_type": "code",
   "execution_count": 144,
   "id": "0ffe5bdc",
   "metadata": {},
   "outputs": [
    {
     "data": {
      "image/png": "[encoded data removed]",
      "text/plain": [
       "<Figure size 432x288 with 1 Axes>"
      ]
     },
     "metadata": {
      "needs_background": "light"
     },
     "output_type": "display_data"
    }
   ],
   "source": [
    "df_time_b_20 = df_time[df_time['bearing_id']==20]\n",
    "xf = df_time_b_20[\"timestamp\"].values\n",
    "yf = fft(df_time_b_20[\"a2_x\"].values)\n",
    "plt.plot(xf, np.abs(yf))\n",
    "plt.show()"
   ]
  },
  {
   "cell_type": "code",
   "execution_count": 151,
   "id": "5e3efe69",
   "metadata": {},
   "outputs": [
    {
     "data": {
      "image/png": "[encoded data removed]",
      "text/plain": [
       "<Figure size 432x288 with 1 Axes>"
      ]
     },
     "metadata": {
      "needs_background": "light"
     },
     "output_type": "display_data"
    }
   ],
   "source": [
    "df_time_b_106 = df_time[df_time['bearing_id']==106]\n",
    "xf = df_time_b_106[\"timestamp\"].values\n",
    "yf = fft(df_time_b_106[\"a2_x\"].values)\n",
    "plt.plot(xf, np.abs(yf))\n",
    "plt.show()"
   ]
  },
  {
   "cell_type": "code",
   "execution_count": 152,
   "id": "cf4bcaf8",
   "metadata": {},
   "outputs": [
    {
     "data": {
      "image/png": "[encoded data removed]",
      "text/plain": [
       "<Figure size 432x288 with 1 Axes>"
      ]
     },
     "metadata": {
      "needs_background": "light"
     },
     "output_type": "display_data"
    }
   ],
   "source": [
    "df_time_b_68 = df_time[df_time['bearing_id']==68]\n",
    "xf = df_time_b_68[\"timestamp\"].values\n",
    "yf = fft(df_time_b_68[\"a2_x\"].values)\n",
    "plt.plot(xf, np.abs(yf))\n",
    "plt.show()"
   ]
  },
  {
   "cell_type": "code",
   "execution_count": 162,
   "id": "a52cd05f",
   "metadata": {},
   "outputs": [],
   "source": [
    "df_rpm = df[(df['rpm'] > 1400) & (df['rpm'] < 2000)]"
   ]
  },
  {
   "cell_type": "code",
   "execution_count": 163,
   "id": "d4061b80",
   "metadata": {},
   "outputs": [
    {
     "data": {
      "image/png": "[encoded data removed]",
      "text/plain": [
       "<Figure size 432x288 with 1 Axes>"
      ]
     },
     "metadata": {
      "needs_background": "light"
     },
     "output_type": "display_data"
    }
   ],
   "source": [
    "df_rpm_b_68 = df_rpm[df_rpm['bearing_id']==68]\n",
    "xf = df_rpm_b_68[\"rpm\"].values\n",
    "yf = fft(df_rpm_b_68[\"a2_x\"].values)\n",
    "plt.plot(xf, np.abs(yf))\n",
    "plt.show()"
   ]
  },
  {
   "cell_type": "code",
   "execution_count": 166,
   "id": "e1e15f9b",
   "metadata": {},
   "outputs": [
    {
     "data": {
      "image/png": "[encoded data removed]",
      "text/plain": [
       "<Figure size 432x288 with 1 Axes>"
      ]
     },
     "metadata": {
      "needs_background": "light"
     },
     "output_type": "display_data"
    }
   ],
   "source": [
    "df_rpm_b_110 = df_rpm[df_rpm['bearing_id']==110]\n",
    "xf = df_rpm_b_110[\"rpm\"].values\n",
    "yf = fft(df_rpm_b_110[\"a2_x\"].values)\n",
    "plt.plot(xf, np.abs(yf))\n",
    "plt.show()"
   ]
  },
  {
   "cell_type": "code",
   "execution_count": 161,
   "id": "379d54e5",
   "metadata": {},
   "outputs": [
    {
     "data": {
      "image/png": "[encoded data removed]",
      "text/plain": [
       "<Figure size 432x288 with 1 Axes>"
      ]
     },
     "metadata": {
      "needs_background": "light"
     },
     "output_type": "display_data"
    }
   ],
   "source": [
    "df_rpm_b_68 = df_rpm[df_rpm['bearing_id']==68]\n",
    "xf = df_rpm_b_68[\"timestamp\"].values\n",
    "yf = df_rpm_b_68[\"rpm\"].values\n",
    "plt.plot(xf, yf)\n",
    "plt.show()"
   ]
  },
  {
   "cell_type": "code",
   "execution_count": null,
   "id": "d885cee9",
   "metadata": {},
   "outputs": [],
   "source": [
    "df7 = df4\n",
    "df7['a1_xfft'] = abs(acceleration_fft[:,0])\n",
    "df7.head()"
   ]
  }
 ],
 "metadata": {
  "kernelspec": {
   "display_name": "Python 3",
   "language": "python",
   "name": "python3"
  },
  "language_info": {
   "codemirror_mode": {
    "name": "ipython",
    "version": 3
   },
   "file_extension": ".py",
   "mimetype": "text/x-python",
   "name": "python",
   "nbconvert_exporter": "python",
   "pygments_lexer": "ipython3",
   "version": "3.8.8"
  }
 },
 "nbformat": 4,
 "nbformat_minor": 5
}
