{
 "cells": [
  {
   "cell_type": "code",
   "execution_count": 7,
   "id": "747b3328",
   "metadata": {},
   "outputs": [],
   "source": [
    "#import of libraries\n",
    "import numpy as np \n",
    "import pandas as pd \n",
    "import matplotlib.pyplot as plt\n",
    "import seaborn as sns"
   ]
  },
  {
   "cell_type": "code",
   "execution_count": 11,
   "id": "e2d591f3",
   "metadata": {},
   "outputs": [],
   "source": [
    "df=pd.read_csv('bearing_signals.csv')"
   ]
  },
  {
   "cell_type": "code",
   "execution_count": 12,
   "id": "a88b0611",
   "metadata": {},
   "outputs": [
    {
     "data": {
      "text/plain": [
       "['experiment_id',\n",
       " 'bearing_1_id',\n",
       " 'bearing_2_id',\n",
       " 'timestamp',\n",
       " 'a1_x',\n",
       " 'a1_y',\n",
       " 'a1_z',\n",
       " 'a2_x',\n",
       " 'a2_y',\n",
       " 'a2_z',\n",
       " 'rpm',\n",
       " 'hz',\n",
       " 'w']"
      ]
     },
     "execution_count": 12,
     "metadata": {},
     "output_type": "execute_result"
    }
   ],
   "source": [
    "df.columns.tolist()"
   ]
  },
  {
   "cell_type": "code",
   "execution_count": null,
   "id": "94120e18",
   "metadata": {},
   "outputs": [],
   "source": [
    "# experiment_id:unique identifier of the experiment\n",
    "\n",
    "# bearing_1_id:Unique identifier of the bearing on the first position\n",
    "\n",
    "# bearing_2_id:Unique identifier of the bearing on the second position\n",
    "\n",
    "# timestamp:Time, measured in seconds\n",
    "\n",
    "# a1_x:Acceleration along the X-axis for the first bearing. Measured in m/s^2\n",
    "\n",
    "# a1_y:Acceleration along the Y-axis for the first bearing. Measured in m/s^2\n",
    "\n",
    "# a1_z:Acceleration along the Z-axis for the first bearing. Measured in m/s^2\n",
    "\n",
    "# a2_x:Acceleration along the X-axis for the second bearing. Measured in m/s^2\n",
    "\n",
    "# a2_y:Acceleration along the Y-axis for the second bearing. Measured in m/s^2\n",
    "\n",
    "# a2_z:Acceleration along the Z-axis for the second bearing. Measured in m/s^2"
   ]
  },
  {
   "cell_type": "code",
   "execution_count": null,
   "id": "a440826e",
   "metadata": {},
   "outputs": [],
   "source": []
  }
 ],
 "metadata": {
  "kernelspec": {
   "display_name": "Python 3",
   "language": "python",
   "name": "python3"
  },
  "language_info": {
   "codemirror_mode": {
    "name": "ipython",
    "version": 3
   },
   "file_extension": ".py",
   "mimetype": "text/x-python",
   "name": "python",
   "nbconvert_exporter": "python",
   "pygments_lexer": "ipython3",
   "version": "3.8.8"
  }
 },
 "nbformat": 4,
 "nbformat_minor": 5
}
